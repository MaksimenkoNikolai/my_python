{
 "cells": [
  {
   "cell_type": "code",
   "execution_count": null,
   "metadata": {},
   "outputs": [],
   "source": [
    "temp = {}\n",
    "\n",
    "with open(\"temper_stat.txt\", \"r\") as file:\n",
    "    for line in file:\n",
    "        line = float(line.strip(\"\\n\"))\n",
    "        try:\n",
    "            temp[line] += 1\n",
    "        except KeyError:\n",
    "            temp[line] = 1\n",
    "    max_temp = str(max(temp.keys()))\n",
    "    min_temp = str(min(temp.keys()))\n",
    "    average_temp = str(round(sum(temp.keys()) / len(temp),1))\n",
    "    unique_temp = str(len(temp))\n",
    "    \n",
    "print(\"Максимальное значение температуры: \" + max_temp)\n",
    "print(\"Минимальное значение температуры: \" + min_temp)\n",
    "print(\"Среднее значение температуры: \" + average_temp)\n",
    "print(\"Всего уникальных температур: \" + unique_temp)"
   ]
  }
 ],
 "metadata": {
  "kernelspec": {
   "display_name": "Python 3",
   "language": "python",
   "name": "python3"
  },
  "language_info": {
   "codemirror_mode": {
    "name": "ipython",
    "version": 3
   },
   "file_extension": ".py",
   "mimetype": "text/x-python",
   "name": "python",
   "nbconvert_exporter": "python",
   "pygments_lexer": "ipython3",
   "version": "3.7.6"
  }
 },
 "nbformat": 4,
 "nbformat_minor": 4
}
