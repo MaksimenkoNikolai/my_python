{
  "nbformat": 4,
  "nbformat_minor": 0,
  "metadata": {
    "colab": {
      "name": "Untitled12.ipynb",
      "provenance": [],
      "authorship_tag": "ABX9TyNIejdxN9fhEohrikNZi7W4",
      "include_colab_link": true
    },
    "kernelspec": {
      "name": "python3",
      "display_name": "Python 3"
    }
  },
  "cells": [
    {
      "cell_type": "markdown",
      "metadata": {
        "id": "view-in-github",
        "colab_type": "text"
      },
      "source": [
        "<a href=\"https://colab.research.google.com/github/MaksimenkoNikolai/my_python/blob/master/sdeputatami.ipynb\" target=\"_parent\"><img src=\"https://colab.research.google.com/assets/colab-badge.svg\" alt=\"Open In Colab\"/></a>"
      ]
    },
    {
      "cell_type": "markdown",
      "metadata": {
        "id": "iyP-BLPJtAR3",
        "colab_type": "text"
      },
      "source": [
        "#**1)** "
      ]
    },
    {
      "cell_type": "code",
      "metadata": {
        "id": "64VsYCz5qh-U",
        "colab_type": "code",
        "colab": {}
      },
      "source": [
        "import datetime\n",
        "from datetime import datetime, timedelta"
      ],
      "execution_count": 0,
      "outputs": []
    },
    {
      "cell_type": "code",
      "metadata": {
        "id": "Ma7UEti6q_8Q",
        "colab_type": "code",
        "colab": {
          "base_uri": "https://localhost:8080/",
          "height": 34
        },
        "outputId": "286eae09-0c2b-4641-823a-4e104b0a542a"
      },
      "source": [
        "t=datetime.strptime('May 9 2017 9:00AM','%b %d %Y %H:%M%p')\n",
        "t"
      ],
      "execution_count": 10,
      "outputs": [
        {
          "output_type": "execute_result",
          "data": {
            "text/plain": [
              "datetime.datetime(2017, 5, 9, 9, 0)"
            ]
          },
          "metadata": {
            "tags": []
          },
          "execution_count": 10
        }
      ]
    },
    {
      "cell_type": "code",
      "metadata": {
        "id": "Z3RjcsAzrKcZ",
        "colab_type": "code",
        "colab": {
          "base_uri": "https://localhost:8080/",
          "height": 34
        },
        "outputId": "fc81517f-aa3f-4fd0-be33-e15a9067d598"
      },
      "source": [
        "t + timedelta(hours=1)"
      ],
      "execution_count": 12,
      "outputs": [
        {
          "output_type": "execute_result",
          "data": {
            "text/plain": [
              "datetime.datetime(2017, 5, 9, 10, 0)"
            ]
          },
          "metadata": {
            "tags": []
          },
          "execution_count": 12
        }
      ]
    },
    {
      "cell_type": "code",
      "metadata": {
        "id": "6oKRhVjFsHsz",
        "colab_type": "code",
        "colab": {
          "base_uri": "https://localhost:8080/",
          "height": 34
        },
        "outputId": "8a4a6933-4944-4aaa-9eb7-667853c7fd68"
      },
      "source": [
        "t.strftime('%Y-%m-%d')"
      ],
      "execution_count": 13,
      "outputs": [
        {
          "output_type": "execute_result",
          "data": {
            "text/plain": [
              "'2017-05-09'"
            ]
          },
          "metadata": {
            "tags": []
          },
          "execution_count": 13
        }
      ]
    },
    {
      "cell_type": "markdown",
      "metadata": {
        "id": "zpzK3ubntLly",
        "colab_type": "text"
      },
      "source": [
        "# **2)**"
      ]
    },
    {
      "cell_type": "code",
      "metadata": {
        "id": "BobcMWMutUBe",
        "colab_type": "code",
        "colab": {
          "base_uri": "https://localhost:8080/",
          "height": 419
        },
        "outputId": "88f92312-dc06-4418-8d97-46eab6f7b3db"
      },
      "source": [
        "import pandas as pd\n",
        "\n",
        "url = \"https://raw.githubusercontent.com/dm-fedorov/pandas_basic/master/data/new_year_film.csv\"\n",
        "pd.read_csv(url)"
      ],
      "execution_count": 14,
      "outputs": [
        {
          "output_type": "execute_result",
          "data": {
            "text/html": [
              "<div>\n",
              "<style scoped>\n",
              "    .dataframe tbody tr th:only-of-type {\n",
              "        vertical-align: middle;\n",
              "    }\n",
              "\n",
              "    .dataframe tbody tr th {\n",
              "        vertical-align: top;\n",
              "    }\n",
              "\n",
              "    .dataframe thead th {\n",
              "        text-align: right;\n",
              "    }\n",
              "</style>\n",
              "<table border=\"1\" class=\"dataframe\">\n",
              "  <thead>\n",
              "    <tr style=\"text-align: right;\">\n",
              "      <th></th>\n",
              "      <th>name</th>\n",
              "      <th>country</th>\n",
              "      <th>time</th>\n",
              "      <th>ranking</th>\n",
              "      <th>type</th>\n",
              "      <th>year</th>\n",
              "      <th>director</th>\n",
              "    </tr>\n",
              "  </thead>\n",
              "  <tbody>\n",
              "    <tr>\n",
              "      <th>0</th>\n",
              "      <td>Невеста</td>\n",
              "      <td>Россия</td>\n",
              "      <td>74</td>\n",
              "      <td>7,66</td>\n",
              "      <td>фильм</td>\n",
              "      <td>2006</td>\n",
              "      <td>Билли Уайлдер</td>\n",
              "    </tr>\n",
              "    <tr>\n",
              "      <th>1</th>\n",
              "      <td>Кто приходит в зимний вечер</td>\n",
              "      <td>Россия</td>\n",
              "      <td>90</td>\n",
              "      <td>6,038</td>\n",
              "      <td>фильм</td>\n",
              "      <td>2006</td>\n",
              "      <td>Билли Уайлдер</td>\n",
              "    </tr>\n",
              "    <tr>\n",
              "      <th>2</th>\n",
              "      <td>Моя мама Снегурочка</td>\n",
              "      <td>Россия</td>\n",
              "      <td>90</td>\n",
              "      <td>6,828</td>\n",
              "      <td>фильм</td>\n",
              "      <td>2007</td>\n",
              "      <td>Билли Уайлдер</td>\n",
              "    </tr>\n",
              "    <tr>\n",
              "      <th>3</th>\n",
              "      <td>Набережная Орфевр</td>\n",
              "      <td>Франция</td>\n",
              "      <td>106</td>\n",
              "      <td>7,597</td>\n",
              "      <td>фильм</td>\n",
              "      <td>1947</td>\n",
              "      <td>Билли Уайлдер</td>\n",
              "    </tr>\n",
              "    <tr>\n",
              "      <th>4</th>\n",
              "      <td>Лузер</td>\n",
              "      <td>Россия</td>\n",
              "      <td>104</td>\n",
              "      <td>6,065</td>\n",
              "      <td>фильм</td>\n",
              "      <td>2007</td>\n",
              "      <td>Билли Уайлдер</td>\n",
              "    </tr>\n",
              "    <tr>\n",
              "      <th>...</th>\n",
              "      <td>...</td>\n",
              "      <td>...</td>\n",
              "      <td>...</td>\n",
              "      <td>...</td>\n",
              "      <td>...</td>\n",
              "      <td>...</td>\n",
              "      <td>...</td>\n",
              "    </tr>\n",
              "    <tr>\n",
              "      <th>145</th>\n",
              "      <td>Карнавальная ночь</td>\n",
              "      <td>СССР</td>\n",
              "      <td>78</td>\n",
              "      <td>7,929</td>\n",
              "      <td>фильм</td>\n",
              "      <td>1956</td>\n",
              "      <td>NaN</td>\n",
              "    </tr>\n",
              "    <tr>\n",
              "      <th>146</th>\n",
              "      <td>Квартира</td>\n",
              "      <td>США</td>\n",
              "      <td>125</td>\n",
              "      <td>8,021</td>\n",
              "      <td>фильм</td>\n",
              "      <td>1960</td>\n",
              "      <td>NaN</td>\n",
              "    </tr>\n",
              "    <tr>\n",
              "      <th>147</th>\n",
              "      <td>Когда зажигаются елки</td>\n",
              "      <td>СССР</td>\n",
              "      <td>20</td>\n",
              "      <td>7,94</td>\n",
              "      <td>мультфильм</td>\n",
              "      <td>1950</td>\n",
              "      <td>NaN</td>\n",
              "    </tr>\n",
              "    <tr>\n",
              "      <th>148</th>\n",
              "      <td>Кошмар перед Рождеством</td>\n",
              "      <td>США</td>\n",
              "      <td>76</td>\n",
              "      <td>8,049</td>\n",
              "      <td>мультфильм</td>\n",
              "      <td>1993</td>\n",
              "      <td>NaN</td>\n",
              "    </tr>\n",
              "    <tr>\n",
              "      <th>149</th>\n",
              "      <td>Красавица и чудовище: Чудесное Рождество (видео)</td>\n",
              "      <td>США</td>\n",
              "      <td>72</td>\n",
              "      <td>6,814</td>\n",
              "      <td>мультфильм</td>\n",
              "      <td>1997</td>\n",
              "      <td>NaN</td>\n",
              "    </tr>\n",
              "  </tbody>\n",
              "</table>\n",
              "<p>150 rows × 7 columns</p>\n",
              "</div>"
            ],
            "text/plain": [
              "                                                 name  ...       director\n",
              "0                                             Невеста  ...  Билли Уайлдер\n",
              "1                         Кто приходит в зимний вечер  ...  Билли Уайлдер\n",
              "2                                 Моя мама Снегурочка  ...  Билли Уайлдер\n",
              "3                                   Набережная Орфевр  ...  Билли Уайлдер\n",
              "4                                              Лузер   ...  Билли Уайлдер\n",
              "..                                                ...  ...            ...\n",
              "145                                 Карнавальная ночь  ...            NaN\n",
              "146                                          Квартира  ...            NaN\n",
              "147                             Когда зажигаются елки  ...            NaN\n",
              "148                           Кошмар перед Рождеством  ...            NaN\n",
              "149  Красавица и чудовище: Чудесное Рождество (видео)  ...            NaN\n",
              "\n",
              "[150 rows x 7 columns]"
            ]
          },
          "metadata": {
            "tags": []
          },
          "execution_count": 14
        }
      ]
    },
    {
      "cell_type": "code",
      "metadata": {
        "id": "0Xv2FW83uB0R",
        "colab_type": "code",
        "colab": {
          "base_uri": "https://localhost:8080/",
          "height": 34
        },
        "outputId": "95fcd4ed-9d42-4002-a131-ae336e61fa2a"
      },
      "source": [
        "from statistics import mean\n",
        "t=pd.read_csv(url)\n",
        "l=[float(i.replace(\",\",\".\")) for i in t['ranking'].values]\n",
        "mean(l)"
      ],
      "execution_count": 23,
      "outputs": [
        {
          "output_type": "execute_result",
          "data": {
            "text/plain": [
              "7.217393333333334"
            ]
          },
          "metadata": {
            "tags": []
          },
          "execution_count": 23
        }
      ]
    },
    {
      "cell_type": "markdown",
      "metadata": {
        "id": "2dcVdyGCvVLx",
        "colab_type": "text"
      },
      "source": [
        "# **3)-**"
      ]
    },
    {
      "cell_type": "markdown",
      "metadata": {
        "id": "zEawu2AK004B",
        "colab_type": "text"
      },
      "source": [
        "# **4)**"
      ]
    },
    {
      "cell_type": "code",
      "metadata": {
        "id": "pEcXCYxv06kG",
        "colab_type": "code",
        "colab": {
          "base_uri": "https://localhost:8080/",
          "height": 336
        },
        "outputId": "fa0b44a3-7957-41e5-eda1-9b176e324584"
      },
      "source": [
        "from IPython.display import HTML\n",
        "\n",
        "# Youtube\n",
        "display(HTML('<iframe width=\"560\" height=\"315\" src=\"https://www.youtube.com/embed/v-rIM2YvTfA?rel=0&amp;controls=0&amp;showinfo=0\" frameborder=\"0\" allowfullscreen></iframe>'))"
      ],
      "execution_count": 36,
      "outputs": [
        {
          "output_type": "display_data",
          "data": {
            "text/html": [
              "<iframe width=\"560\" height=\"315\" src=\"https://www.youtube.com/embed/v-rIM2YvTfA?rel=0&amp;controls=0&amp;showinfo=0\" frameborder=\"0\" allowfullscreen></iframe>"
            ],
            "text/plain": [
              "<IPython.core.display.HTML object>"
            ]
          },
          "metadata": {
            "tags": []
          }
        }
      ]
    },
    {
      "cell_type": "code",
      "metadata": {
        "id": "GMjx5FK91FC4",
        "colab_type": "code",
        "colab": {
          "base_uri": "https://localhost:8080/",
          "height": 102
        },
        "outputId": "7e4adfab-3bfa-4917-ef28-7eb55da22a23"
      },
      "source": [
        "!pip3 install requests\n",
        "\n",
        "import requests  \n",
        "response = requests.get('https://www.cbr-xml-daily.ru/daily_json.js')"
      ],
      "execution_count": 37,
      "outputs": [
        {
          "output_type": "stream",
          "text": [
            "Requirement already satisfied: requests in /usr/local/lib/python3.6/dist-packages (2.23.0)\n",
            "Requirement already satisfied: chardet<4,>=3.0.2 in /usr/local/lib/python3.6/dist-packages (from requests) (3.0.4)\n",
            "Requirement already satisfied: idna<3,>=2.5 in /usr/local/lib/python3.6/dist-packages (from requests) (2.9)\n",
            "Requirement already satisfied: urllib3!=1.25.0,!=1.25.1,<1.26,>=1.21.1 in /usr/local/lib/python3.6/dist-packages (from requests) (1.24.3)\n",
            "Requirement already satisfied: certifi>=2017.4.17 in /usr/local/lib/python3.6/dist-packages (from requests) (2020.4.5.1)\n"
          ],
          "name": "stdout"
        }
      ]
    },
    {
      "cell_type": "code",
      "metadata": {
        "id": "46EqPcoU1S_l",
        "colab_type": "code",
        "colab": {
          "base_uri": "https://localhost:8080/",
          "height": 204
        },
        "outputId": "12dffb3d-61ab-403b-f8a4-de3be31c5002"
      },
      "source": [
        "import pandas as pd\n",
        "\n",
        "t=response.json()\n",
        "t=t['Valute'].keys()\n",
        "\n",
        "df = pd.read_csv('https://raw.githubusercontent.com/dm-fedorov/pandas_basic/master/data/it_new.csv')\n",
        "df.head(10)\n",
        "df.drop(['Дата рождения','Вакансия', 'Технология', 'Локация', 'З/п в валюте найма'],axis=1, inplace=True)\n",
        "df.head(5)"
      ],
      "execution_count": 54,
      "outputs": [
        {
          "output_type": "execute_result",
          "data": {
            "text/html": [
              "<div>\n",
              "<style scoped>\n",
              "    .dataframe tbody tr th:only-of-type {\n",
              "        vertical-align: middle;\n",
              "    }\n",
              "\n",
              "    .dataframe tbody tr th {\n",
              "        vertical-align: top;\n",
              "    }\n",
              "\n",
              "    .dataframe thead th {\n",
              "        text-align: right;\n",
              "    }\n",
              "</style>\n",
              "<table border=\"1\" class=\"dataframe\">\n",
              "  <thead>\n",
              "    <tr style=\"text-align: right;\">\n",
              "      <th></th>\n",
              "      <th>id</th>\n",
              "      <th>col</th>\n",
              "      <th>curenc</th>\n",
              "    </tr>\n",
              "  </thead>\n",
              "  <tbody>\n",
              "    <tr>\n",
              "      <th>0</th>\n",
              "      <td>1</td>\n",
              "      <td>140000.0</td>\n",
              "      <td>₽</td>\n",
              "    </tr>\n",
              "    <tr>\n",
              "      <th>1</th>\n",
              "      <td>2</td>\n",
              "      <td>130000.0</td>\n",
              "      <td>₽</td>\n",
              "    </tr>\n",
              "    <tr>\n",
              "      <th>2</th>\n",
              "      <td>3</td>\n",
              "      <td>200000.0</td>\n",
              "      <td>₽</td>\n",
              "    </tr>\n",
              "    <tr>\n",
              "      <th>3</th>\n",
              "      <td>4</td>\n",
              "      <td>250000.0</td>\n",
              "      <td>₽</td>\n",
              "    </tr>\n",
              "    <tr>\n",
              "      <th>4</th>\n",
              "      <td>5</td>\n",
              "      <td>172413.0</td>\n",
              "      <td>₽</td>\n",
              "    </tr>\n",
              "  </tbody>\n",
              "</table>\n",
              "</div>"
            ],
            "text/plain": [
              "   id       col curenc\n",
              "0   1  140000.0      ₽\n",
              "1   2  130000.0      ₽\n",
              "2   3  200000.0      ₽\n",
              "3   4  250000.0      ₽\n",
              "4   5  172413.0      ₽"
            ]
          },
          "metadata": {
            "tags": []
          },
          "execution_count": 54
        }
      ]
    },
    {
      "cell_type": "code",
      "metadata": {
        "id": "OatLGBlS-u3o",
        "colab_type": "code",
        "colab": {}
      },
      "source": [
        ""
      ],
      "execution_count": 0,
      "outputs": []
    },
    {
      "cell_type": "markdown",
      "metadata": {
        "id": "JR01JSyE--Xq",
        "colab_type": "text"
      },
      "source": [
        "# **5)**"
      ]
    },
    {
      "cell_type": "code",
      "metadata": {
        "id": "fdHiQLe0_Eb4",
        "colab_type": "code",
        "colab": {
          "base_uri": "https://localhost:8080/",
          "height": 419
        },
        "outputId": "184e7cde-afec-4a27-bae4-870eb1cf732b"
      },
      "source": [
        "import pandas as pd\n",
        "\n",
        "url = \"https://raw.githubusercontent.com/dm-fedorov/pandas_basic/master/data/deputat.csv\"\n",
        "df = pd.read_csv(url)\n",
        "df\n"
      ],
      "execution_count": 57,
      "outputs": [
        {
          "output_type": "execute_result",
          "data": {
            "text/html": [
              "<div>\n",
              "<style scoped>\n",
              "    .dataframe tbody tr th:only-of-type {\n",
              "        vertical-align: middle;\n",
              "    }\n",
              "\n",
              "    .dataframe tbody tr th {\n",
              "        vertical-align: top;\n",
              "    }\n",
              "\n",
              "    .dataframe thead th {\n",
              "        text-align: right;\n",
              "    }\n",
              "</style>\n",
              "<table border=\"1\" class=\"dataframe\">\n",
              "  <thead>\n",
              "    <tr style=\"text-align: right;\">\n",
              "      <th></th>\n",
              "      <th>name</th>\n",
              "      <th>lastname</th>\n",
              "      <th>otchestvo</th>\n",
              "      <th>gender</th>\n",
              "      <th>birthdate</th>\n",
              "      <th>start</th>\n",
              "      <th>end</th>\n",
              "      <th>district</th>\n",
              "    </tr>\n",
              "  </thead>\n",
              "  <tbody>\n",
              "    <tr>\n",
              "      <th>0</th>\n",
              "      <td>Ефимов</td>\n",
              "      <td>Виталий</td>\n",
              "      <td>Борисович</td>\n",
              "      <td>м</td>\n",
              "      <td>04.04.1940</td>\n",
              "      <td>18.09.2016</td>\n",
              "      <td>NaN</td>\n",
              "      <td>Мордовский</td>\n",
              "    </tr>\n",
              "    <tr>\n",
              "      <th>1</th>\n",
              "      <td>Максимова</td>\n",
              "      <td>Надежда</td>\n",
              "      <td>Сергеевна</td>\n",
              "      <td>ж</td>\n",
              "      <td>13.01.1942</td>\n",
              "      <td>18.09.2016</td>\n",
              "      <td>NaN</td>\n",
              "      <td>Хакасский</td>\n",
              "    </tr>\n",
              "    <tr>\n",
              "      <th>2</th>\n",
              "      <td>Мищеряков</td>\n",
              "      <td>Юрий</td>\n",
              "      <td>Николаевич</td>\n",
              "      <td>м</td>\n",
              "      <td>01.01.1945</td>\n",
              "      <td>18.09.2016</td>\n",
              "      <td>NaN</td>\n",
              "      <td>Оренбургский</td>\n",
              "    </tr>\n",
              "    <tr>\n",
              "      <th>3</th>\n",
              "      <td>Борцов</td>\n",
              "      <td>Николай</td>\n",
              "      <td>Иванович</td>\n",
              "      <td>м</td>\n",
              "      <td>08.09.1945</td>\n",
              "      <td>18.09.2016</td>\n",
              "      <td>NaN</td>\n",
              "      <td>Липецкий</td>\n",
              "    </tr>\n",
              "    <tr>\n",
              "      <th>4</th>\n",
              "      <td>Гончар</td>\n",
              "      <td>Николай</td>\n",
              "      <td>Николаевич</td>\n",
              "      <td>м</td>\n",
              "      <td>18.10.1946</td>\n",
              "      <td>18.09.2016</td>\n",
              "      <td>NaN</td>\n",
              "      <td>Центральный</td>\n",
              "    </tr>\n",
              "    <tr>\n",
              "      <th>...</th>\n",
              "      <td>...</td>\n",
              "      <td>...</td>\n",
              "      <td>...</td>\n",
              "      <td>...</td>\n",
              "      <td>...</td>\n",
              "      <td>...</td>\n",
              "      <td>...</td>\n",
              "      <td>...</td>\n",
              "    </tr>\n",
              "    <tr>\n",
              "      <th>206</th>\n",
              "      <td>Федяев</td>\n",
              "      <td>Павел</td>\n",
              "      <td>Михайлович</td>\n",
              "      <td>м</td>\n",
              "      <td>31.07.1982</td>\n",
              "      <td>18.09.2016</td>\n",
              "      <td>NaN</td>\n",
              "      <td>Заводский</td>\n",
              "    </tr>\n",
              "    <tr>\n",
              "      <th>207</th>\n",
              "      <td>Романов</td>\n",
              "      <td>Михаил</td>\n",
              "      <td>Валентинович</td>\n",
              "      <td>м</td>\n",
              "      <td>03.11.1984</td>\n",
              "      <td>18.09.2016</td>\n",
              "      <td>NaN</td>\n",
              "      <td>Юго-Восточный</td>\n",
              "    </tr>\n",
              "    <tr>\n",
              "      <th>208</th>\n",
              "      <td>Грибов</td>\n",
              "      <td>Александр</td>\n",
              "      <td>Сергеевич</td>\n",
              "      <td>м</td>\n",
              "      <td>22.05.1986</td>\n",
              "      <td>18.09.2016</td>\n",
              "      <td>NaN</td>\n",
              "      <td>Ярославский</td>\n",
              "    </tr>\n",
              "    <tr>\n",
              "      <th>209</th>\n",
              "      <td>Прокопьев</td>\n",
              "      <td>Александр</td>\n",
              "      <td>Сергеевич</td>\n",
              "      <td>м</td>\n",
              "      <td>05.08.1986</td>\n",
              "      <td>18.09.2016</td>\n",
              "      <td>NaN</td>\n",
              "      <td>Бийский</td>\n",
              "    </tr>\n",
              "    <tr>\n",
              "      <th>210</th>\n",
              "      <td>Шипулин</td>\n",
              "      <td>Антон</td>\n",
              "      <td>Владимирович</td>\n",
              "      <td>м</td>\n",
              "      <td>21.08.1987</td>\n",
              "      <td>08.09.2019</td>\n",
              "      <td>NaN</td>\n",
              "      <td>Серовский</td>\n",
              "    </tr>\n",
              "  </tbody>\n",
              "</table>\n",
              "<p>211 rows × 8 columns</p>\n",
              "</div>"
            ],
            "text/plain": [
              "          name   lastname     otchestvo  ...       start  end       district\n",
              "0       Ефимов    Виталий     Борисович  ...  18.09.2016  NaN     Мордовский\n",
              "1    Максимова    Надежда     Сергеевна  ...  18.09.2016  NaN      Хакасский\n",
              "2    Мищеряков       Юрий    Николаевич  ...  18.09.2016  NaN   Оренбургский\n",
              "3       Борцов    Николай      Иванович  ...  18.09.2016  NaN       Липецкий\n",
              "4       Гончар    Николай    Николаевич  ...  18.09.2016  NaN    Центральный\n",
              "..         ...        ...           ...  ...         ...  ...            ...\n",
              "206     Федяев      Павел    Михайлович  ...  18.09.2016  NaN      Заводский\n",
              "207    Романов     Михаил  Валентинович  ...  18.09.2016  NaN  Юго-Восточный\n",
              "208     Грибов  Александр     Сергеевич  ...  18.09.2016  NaN    Ярославский\n",
              "209  Прокопьев  Александр     Сергеевич  ...  18.09.2016  NaN        Бийский\n",
              "210    Шипулин      Антон  Владимирович  ...  08.09.2019  NaN      Серовский\n",
              "\n",
              "[211 rows x 8 columns]"
            ]
          },
          "metadata": {
            "tags": []
          },
          "execution_count": 57
        }
      ]
    },
    {
      "cell_type": "code",
      "metadata": {
        "id": "vThD_Qan_qLm",
        "colab_type": "code",
        "colab": {}
      },
      "source": [
        "def old(x):\n",
        "    k=int(x[6::])\n",
        "    t=2020- k\n",
        "    return t\n",
        "    "
      ],
      "execution_count": 0,
      "outputs": []
    },
    {
      "cell_type": "code",
      "metadata": {
        "id": "rt0WfjDs__ML",
        "colab_type": "code",
        "colab": {
          "base_uri": "https://localhost:8080/",
          "height": 34
        },
        "outputId": "73e60304-d54f-4164-c196-dc9e8b6f6daa"
      },
      "source": [
        "mean([old(i) for i in df['birthdate'].values])"
      ],
      "execution_count": 70,
      "outputs": [
        {
          "output_type": "execute_result",
          "data": {
            "text/plain": [
              "56.2654028436019"
            ]
          },
          "metadata": {
            "tags": []
          },
          "execution_count": 70
        }
      ]
    },
    {
      "cell_type": "code",
      "metadata": {
        "id": "HQ7eK4VIACZH",
        "colab_type": "code",
        "colab": {
          "base_uri": "https://localhost:8080/",
          "height": 68
        },
        "outputId": "05910635-2ab6-4048-90cd-6f397bb99f3a"
      },
      "source": [
        "df['gender'].value_counts(normalize=True)"
      ],
      "execution_count": 71,
      "outputs": [
        {
          "output_type": "execute_result",
          "data": {
            "text/plain": [
              "м    0.848341\n",
              "ж    0.151659\n",
              "Name: gender, dtype: float64"
            ]
          },
          "metadata": {
            "tags": []
          },
          "execution_count": 71
        }
      ]
    },
    {
      "cell_type": "code",
      "metadata": {
        "id": "wClO9326BUrP",
        "colab_type": "code",
        "colab": {}
      },
      "source": [
        ""
      ],
      "execution_count": 0,
      "outputs": []
    }
  ]
}