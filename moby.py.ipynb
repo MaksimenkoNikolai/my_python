{
 "cells": [
  {
   "cell_type": "code",
   "execution_count": 1,
   "metadata": {},
   "outputs": [],
   "source": [
    "with open (\"moby.txt\", \"r\") as file, open(\"moby_clean.txt\",\"a\") as file_1:\n",
    "    trantab = str.maketrans(\"\",\"\",\".,;:-\")\n",
    "    trantab_1 = str.maketrans({\"\\n\":None})\n",
    "    letter = file.read().lower()\n",
    "    letter = letter.translate(trantab).translate(trantab_1)\n",
    "    for i in letter.split():\n",
    "        file_1.write(\"\".join([i,\"\\n\"]))"
   ]
  },
  {
   "cell_type": "code",
   "execution_count": null,
   "metadata": {},
   "outputs": [],
   "source": []
  }
 ],
 "metadata": {
  "kernelspec": {
   "display_name": "Python 3",
   "language": "python",
   "name": "python3"
  },
  "language_info": {
   "codemirror_mode": {
    "name": "ipython",
    "version": 3
   },
   "file_extension": ".py",
   "mimetype": "text/x-python",
   "name": "python",
   "nbconvert_exporter": "python",
   "pygments_lexer": "ipython3",
   "version": "3.7.6"
  }
 },
 "nbformat": 4,
 "nbformat_minor": 4
}
