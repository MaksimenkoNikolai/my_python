%%writefile text.txt
Край любимый! Сердцу снятся
Скирды солнца в водах лонных,
Я хотел бы затеряться
В зеленях твоих стозвонных.


try:
     with open("text.txt","r") as text, open("update_text.txt","w") as update_text:
        l = text.readlines()
        appendTo = "".join([str(i+1) + " " + l[i] for i in range(len(l))])
        update_text.write(appendTo)
except Exception as n1:
    print(n1)
