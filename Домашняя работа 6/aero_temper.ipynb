temp = {}

with open("temper_stat.txt", "r") as file:
    for line in file:
        line = float(line.strip("\n"))
        try:
            temp[line] += 1
        except KeyError:
            temp[line] = 1
    max_temp = str(max(temp.keys()))
    min_temp = str(min(temp.keys()))
    average_temp = str(round(sum(temp.keys()) / len(temp),1))
    unique_temp = str(len(temp))
    
print("Максимальное значение температуры: " + max_temp)
print("Минимальное значение температуры: " + min_temp)
print("Среднее значение температуры: " + average_temp)
print("Всего уникальных температур: " + unique_temp)
