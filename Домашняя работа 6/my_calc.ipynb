while True:
    a, b  =  0, 0
    try:
        print("Введите числа")
        
        try:
            a, b = input().split()
        except valueErr:
            print("Неверное количсетво переменных!, попробуйте снова (Введите 2 числа!)")
            continue
        a, b  = float(a), float(b)
    except valueErr:
        print("Неверно введены числа, попытайтесь еще раз")
        continue
    print("Введите знак")
    c = input()
    if c == "+":
        print(a + b)
    elif c == "-":
        print(a - b)
    elif c == "*":
        print(a * b)
    elif c == "/":
        try:
            
            print(a / b)
        except zeroErr:
            print("На ноль делить нельзя! Введите числа еще раз.")
            continue
    else:
        print("Неверно введен знак! Повторите попытку")
        continue
