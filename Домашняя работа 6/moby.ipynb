
with open ("moby.txt", "r") as file, open("moby_clean.txt","a") as file_1:
    trantab = str.maketrans("","",".,;:-")
    trantab_1 = str.maketrans({"\n":None})
    letter = file.read().lower()
    letter = letter.translate(trantab).translate(trantab_1)
    for i in letter.split():
        file_1.write("".join([i,"\n"]))
