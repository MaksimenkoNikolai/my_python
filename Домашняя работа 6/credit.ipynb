import csv

r = []
rob = []

with open("opendata.stat.txt", "r", encoding = "utf8") as stat:
        s = list(csv.reader(stat))
        
        for i in s:
            if i[0] == "name ":
                continue
            else:
                if i[0] == 'Количество заявок на потребительские кредиты' and i[2][0:4] == '2017':
                    r.append(i[1])
        rob = list(set(r))
        sp = dict(zip(rob,[0 for j in rob]))
        
        for i in s:
            if i[0] == "name ":
                continue
            else:
                if i[0] == 'Количество заявок на потребительские кредиты' and i[2][0:4] == '2017':
                     sp[i[1]] += int(i[3])
                        
        del  sp['Россия']
        
print(tuple(reversed(max(zip( sp.values(), sp.keys())))))
