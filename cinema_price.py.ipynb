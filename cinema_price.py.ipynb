{
 "cells": [
  {
   "cell_type": "code",
   "execution_count": 5,
   "metadata": {},
   "outputs": [
    {
     "name": "stdout",
     "output_type": "stream",
     "text": [
      "Выберите фильм: 1917\n",
      "Выберите день (сегодня/завтра): завтра\n",
      "Выберите время: 13\n",
      "Выберите количество билетов: 21\n",
      "Стоимость билетов: 5512.5\n"
     ]
    }
   ],
   "source": [
    "film=input(\"Выберите фильм: \")\n",
    "day=input(\"Выберите день (сегодня/завтра): \")\n",
    "time=int(input(\"Выберите время: \"))\n",
    "n=int(input(\"Выберите количество билетов: \"))\n",
    "if day==\"завтра\":\n",
    "    sale=0.05\n",
    "else:\n",
    "    sale=0\n",
    "if n>= 20:\n",
    "    sale2=0.2\n",
    "else:\n",
    "    sale=0\n",
    "if film==\"Паразиты\":\n",
    "    if time==12:\n",
    "        price=250*(1-sale-sale2)*n\n",
    "    if time==16:\n",
    "        price=350*(1-sale-sale2)*n\n",
    "    if time==20:\n",
    "        price=450*(1-sale-sale2)*n\n",
    "if film==\"Соник в кино\":\n",
    "    if time==10:\n",
    "        price=350*(1-sale-sale2)*n\n",
    "    if time==14:\n",
    "        price=450*(1-sale-sale2)*n\n",
    "    if time==18:\n",
    "        price=450*(1-sale-sale2)*n\n",
    "if film==\"1917\":\n",
    "    if time==10:\n",
    "        price=250*(1-sale-sale2)*n\n",
    "    if time==13:\n",
    "        price=350*(1-sale-sale2)*n\n",
    "    if time==16:\n",
    "        price=350*(1-sale-sale2)*n\n",
    "print(\"Стоимость билетов: \"+str(price))"
   ]
  },
  {
   "cell_type": "code",
   "execution_count": null,
   "metadata": {},
   "outputs": [],
   "source": []
  }
 ],
 "metadata": {
  "kernelspec": {
   "display_name": "Python 3",
   "language": "python",
   "name": "python3"
  },
  "language_info": {
   "codemirror_mode": {
    "name": "ipython",
    "version": 3
   },
   "file_extension": ".py",
   "mimetype": "text/x-python",
   "name": "python",
   "nbconvert_exporter": "python",
   "pygments_lexer": "ipython3",
   "version": "3.7.6"
  }
 },
 "nbformat": 4,
 "nbformat_minor": 4
}
