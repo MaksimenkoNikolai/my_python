value=input("Введите число: ")
if int(value)%2==0:
    print("Число четное")
else:
    print("Число не четное")
