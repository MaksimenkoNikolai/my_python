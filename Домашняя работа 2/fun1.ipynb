value=input("Введите число: ")
if -2.4<float(value)<5.7:
    print(pow(float(value),2))
else:
    print("4")
