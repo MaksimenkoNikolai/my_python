citycode=int(input("Введите код города: "))
value=float(input("Введите длительность переговоров: "))
if citycode==343:
    print("Стоимость разговора: "+str(value*15))
elif citycode==381:
    print("Стоимость разговора: "+str(value*18))
elif citycode==473:
    print("Стоимость разговора: "+str(value*13))
elif citycode==485:
    print("Стоимость разговора: "+str(value*11))
else:
    print("Введите корректный код города!")
