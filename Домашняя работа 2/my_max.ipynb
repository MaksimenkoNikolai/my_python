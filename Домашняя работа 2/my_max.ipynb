firstel=input("Введите первое число: ")
secondel=input("Введите второе число: ")
if firstel>secondel:
    print(firstel)
elif firstel<secondel:
    print(secondel)
else:
    print("Числа равны!")
