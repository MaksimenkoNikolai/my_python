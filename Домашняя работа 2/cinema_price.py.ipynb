film=input("Выберите фильм: ")
day=input("Выберите день (сегодня/завтра): ")
time=int(input("Выберите время: "))
n=int(input("Выберите количество билетов: "))
sale=0
sale2=0
if day=="завтра":
    sale=0.05
else:
    sale=0
if n>= 20:
    sale2=0.2
else:
    sale=0
if film=="Паразиты":
    if time==12:
        price=250*(1-sale-sale2)*n
    if time==16:
        price=350*(1-sale-sale2)*n
    if time==20:
        price=450*(1-sale-sale2)*n
if film=="Соник в кино":
    if time==10:
        price=350*(1-sale-sale2)*n
    if time==14:
        price=450*(1-sale-sale2)*n
    if time==18:
            price=450*(1-sale-sale2)*n
if film=="1917":
    if time==10:
        price=250*(1-sale-sale2)*n
    if time==13:
        price=350*(1-sale-sale2)*n
    if time==16:
        price=350*(1-sale-sale2)*n
print("Стоимость билетов: "+str(price))
