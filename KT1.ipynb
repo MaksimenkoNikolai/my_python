{
 "cells": [
  {
   "cell_type": "code",
   "execution_count": null,
   "metadata": {},
   "outputs": [],
   "source": [
    "import tkinter\n",
    "import json\n",
    "\n",
    "window = tkinter.Tk()\n",
    "window.geometry(\"400x170\")\n",
    "window.title(\"helper\")\n",
    "def sut():\n",
    "    window.destroy()\n",
    "lst=[]\n",
    "def ter(slova):\n",
    "    with open(\"dat.json\",\"w\")as file:\n",
    "        json.dump(slova,file)\n",
    "def push():\n",
    "    d={\"Задача\":tack1.get(),\"Категория\":tack2.get(),\"Время\":tack3.get()}\n",
    "    ter(d)\n",
    "    lst.append(d)\n",
    "    return lst\n",
    "def zd():\n",
    "    print(lst)\n",
    "zadach=tkinter.Label(text=\"Задача\").grid(row=1,column=0)\n",
    "kateg=tkinter.Label(text=\"Категория\").grid(row=2,column=0)\n",
    "time=tkinter.Label(text=\"Время\").grid(row=3,column=0)\n",
    "tack1=tkinter.Entry(width=50).grid(row=1,column=1)\n",
    "tack2=tkinter.Entry(width=50).grid(row=2,column=1)\n",
    "tack3=tkinter.Entry(width=50).grid(row=3,column=1)\n",
    "\n",
    "but1=tkinter.Button(window, text=\"Добавить задачу\",command=push).grid(row=4,column=1)\n",
    "but2=tkinter.Button(window, text=\"Список задач\",command=zd).grid(row=5,column=1)\n",
    "but3=tkinter.Button(window, text=\"Выход\",command=sut).grid(row=6,column=1)\n",
    "window.mainloop()"
   ]
  }
 ],
 "metadata": {
  "kernelspec": {
   "display_name": "Python 3",
   "language": "python",
   "name": "python3"
  },
  "language_info": {
   "codemirror_mode": {
    "name": "ipython",
    "version": 3
   },
   "file_extension": ".py",
   "mimetype": "text/x-python",
   "name": "python",
   "nbconvert_exporter": "python",
   "pygments_lexer": "ipython3",
   "version": "3.7.6"
  }
 },
 "nbformat": 4,
 "nbformat_minor": 4
}
