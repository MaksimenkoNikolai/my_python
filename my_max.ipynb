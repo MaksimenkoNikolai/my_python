{
 "cells": [
  {
   "cell_type": "code",
   "execution_count": 2,
   "metadata": {},
   "outputs": [
    {
     "name": "stdout",
     "output_type": "stream",
     "text": [
      "Введите первое число: 17\n",
      "Введите второе число: 17\n",
      "Числа равны!\n"
     ]
    }
   ],
   "source": [
    "firstel=input(\"Введите первое число: \")\n",
    "secondel=input(\"Введите второе число: \")\n",
    "if firstel>secondel:\n",
    "    print(firstel)\n",
    "elif firstel<secondel:\n",
    "    print(secondel)\n",
    "else:\n",
    "    print(\"Числа равны!\")"
   ]
  }
 ],
 "metadata": {
  "kernelspec": {
   "display_name": "Python 3",
   "language": "python",
   "name": "python3"
  },
  "language_info": {
   "codemirror_mode": {
    "name": "ipython",
    "version": 3
   },
   "file_extension": ".py",
   "mimetype": "text/x-python",
   "name": "python",
   "nbconvert_exporter": "python",
   "pygments_lexer": "ipython3",
   "version": "3.7.6"
  }
 },
 "nbformat": 4,
 "nbformat_minor": 4
}
