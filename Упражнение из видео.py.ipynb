{
 "cells": [
  {
   "cell_type": "code",
   "execution_count": 5,
   "metadata": {},
   "outputs": [],
   "source": [
    "class Character:\n",
    "    n=0\n",
    "    animate = [\"AnimateObject \", \"AnimateStay \", \"AnimateRun \", \"AnimateShoot \", \"AnimateFlying \"]\n",
    "    \n",
    "    def getting_objects(person, object1):\n",
    "        if object1 == 'UpperPower':\n",
    "            person._power *=3\n",
    "        elif object1 == 'UpperSpeed':\n",
    "            person._speed *= 5\n",
    "        else: \n",
    "            person._objects +=1\n",
    "            print(f'Персонаж {person.__name} подобрал предмет {object1}: {Character.animate[3]}')\n",
    "            \n",
    "    def __init__(person, name = 'Простой персонаж', x = 0, y = 0, power = 100, speed = 30, objects = 1):\n",
    "        person._objects = objects\n",
    "        person.__name = name\n",
    "        person._x = x\n",
    "        person._y = y\n",
    "        person._power = power\n",
    "        person._speed = speed\n",
    "        Character.n += 1\n",
    "        print(f'Создали нового персонажа {person.__name}: {Character.animate[0]}')\n",
    "        \n",
    "    def running(person, d_x=1, d_y=1):\n",
    "        person._x += d_x\n",
    "        person._y += d_y\n",
    "        print(f'Персонаж {person.__name} бежит, положение {person._x, person._y}: {Character.animate[1]}')\n",
    "        \n",
    "    def shooting(person):\n",
    "        print (f'Персонаж {person.__name} стреляет: {Character.animate[2]}')\n",
    "        \n",
    "class Сharacterflying (Character):\n",
    "    def __init__(person, name ='Безымянный персонаж ', x = 0, y = 0, power = 80, speed = 40, objects = 1):\n",
    "        Character.__init__(person, name = name, x = x, y = y, power = power, speed = speed, objects = objects)"
   ]
  },
  {
   "cell_type": "code",
   "execution_count": 6,
   "metadata": {},
   "outputs": [
    {
     "name": "stdout",
     "output_type": "stream",
     "text": [
      "Создали нового персонажа 1: AnimateObject \n",
      "Создали нового персонажа 2: AnimateObject \n",
      "Создали нового персонажа 3: AnimateObject \n",
      "Количество персонажей: 3\n",
      "Скорость обычного персонажа: 30\n",
      "Скорость персонажа в полете: 40\n",
      "Персонаж 1 стреляет: AnimateRun \n",
      "Персонаж 2 бежит, положение (1, 2): AnimateStay \n",
      "Персонаж 3 бежит, положение (4, 12): AnimateStay \n",
      "Персонаж 1 подобрал предмет table: AnimateShoot \n"
     ]
    },
    {
     "data": {
      "text/plain": [
       "150"
      ]
     },
     "execution_count": 6,
     "metadata": {},
     "output_type": "execute_result"
    }
   ],
   "source": [
    "character1 = Character('1')\n",
    "character2 = Character('2')\n",
    "character3 = Сharacterflying('3',1,2)\n",
    "print(f'Количество персонажей: {Character.n}')\n",
    "print(f'Скорость обычного персонажа: {character1._speed}')\n",
    "print(f'Скорость персонажа в полете: {character3._speed}')\n",
    "character1.shooting()\n",
    "character2.running(1,2)\n",
    "character3.running(3,10)\n",
    "character1.getting_objects('table')\n",
    "character1._objects\n",
    "character1.getting_objects('UpperSpeed')\n",
    "character1._speed"
   ]
  },
  {
   "cell_type": "code",
   "execution_count": null,
   "metadata": {},
   "outputs": [],
   "source": []
  },
  {
   "cell_type": "code",
   "execution_count": null,
   "metadata": {},
   "outputs": [],
   "source": []
  }
 ],
 "metadata": {
  "kernelspec": {
   "display_name": "Python 3",
   "language": "python",
   "name": "python3"
  },
  "language_info": {
   "codemirror_mode": {
    "name": "ipython",
    "version": 3
   },
   "file_extension": ".py",
   "mimetype": "text/x-python",
   "name": "python",
   "nbconvert_exporter": "python",
   "pygments_lexer": "ipython3",
   "version": "3.7.6"
  }
 },
 "nbformat": 4,
 "nbformat_minor": 4
}
