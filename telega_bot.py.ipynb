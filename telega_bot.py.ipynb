{
 "cells": [
  {
   "cell_type": "code",
   "execution_count": null,
   "metadata": {},
   "outputs": [],
   "source": [
    "import COVID19Py\n",
    "import telebot\n",
    "import requests"
   ]
  },
  {
   "cell_type": "code",
   "execution_count": null,
   "metadata": {},
   "outputs": [],
   "source": [
    "covid19=COVID19Py.COVID19()\n",
    "bot=telebot.TeleBot('1292325033:AAFfg8euF08nC07PZe0w20gy_Kl0ncsuZ6Q')"
   ]
  },
  {
   "cell_type": "code",
   "execution_count": null,
   "metadata": {},
   "outputs": [],
   "source": [
    "@bot.message_handler(commands=['start'])\n",
    "def start(message):\n",
    "    send_mess=f\"<b>Привет {message.from_user.first_name}! <b>\\nВведите страну\"\n",
    "    bot/send_message(message.chat.id, send_mess, parse_mode='html')\n",
    "    \n",
    "    \n",
    "    \n",
    "bot.polling(none_stop=True)"
   ]
  },
  {
   "cell_type": "code",
   "execution_count": null,
   "metadata": {},
   "outputs": [],
   "source": [
    "@bot.message_handler(content_types=['text'])\n",
    "def mess(message):\n",
    "    final_message=\"\"\n",
    "    get_message_bot=message.text.strip().lower()\n",
    "    if get_message_bot==\"сша\":\n",
    "        location=covid19.getLocationBycountryCode(\"US\")\n",
    "    elif get_message_bot==\"украина\":\n",
    "        location=covid19.getLocationByCountryCode(\"UA\")\n",
    "    elif get_message_bot==\"россия\":\n",
    "        location=covid19.getLocationByCountryCode(\"RU\")\n",
    "    else:\n",
    "        location=covid19.getLatest()\n",
    "        final_message = f\"<b>Данные по всему миру:</u>\\n<b>Заболевшие: </b>{location['confirmed']}\\n\"\n",
    "    if final_message==\"\":\n",
    "        date=location[0]['latest_update'].split(\"T\")\n",
    "        time=date[1].split(\".\")\n",
    "        final_message= f\"\""
   ]
  },
  {
   "cell_type": "code",
   "execution_count": null,
   "metadata": {},
   "outputs": [],
   "source": [
    "#latest=covid19.getLatest()"
   ]
  },
  {
   "cell_type": "code",
   "execution_count": null,
   "metadata": {},
   "outputs": [],
   "source": [
    "#print(latest)"
   ]
  },
  {
   "cell_type": "code",
   "execution_count": null,
   "metadata": {},
   "outputs": [],
   "source": [
    "#location=covid19.getLocationByCountryCode(\"US\")"
   ]
  },
  {
   "cell_type": "code",
   "execution_count": null,
   "metadata": {},
   "outputs": [],
   "source": [
    "#print(location)"
   ]
  }
 ],
 "metadata": {
  "kernelspec": {
   "display_name": "Python 3",
   "language": "python",
   "name": "python3"
  },
  "language_info": {
   "codemirror_mode": {
    "name": "ipython",
    "version": 3
   },
   "file_extension": ".py",
   "mimetype": "text/x-python",
   "name": "python",
   "nbconvert_exporter": "python",
   "pygments_lexer": "ipython3",
   "version": "3.7.6"
  }
 },
 "nbformat": 4,
 "nbformat_minor": 4
}
