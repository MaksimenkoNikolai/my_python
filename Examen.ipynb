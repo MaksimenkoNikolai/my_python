{
  "nbformat": 4,
  "nbformat_minor": 0,
  "metadata": {
    "colab": {
      "name": "Untitled13.ipynb",
      "provenance": [],
      "authorship_tag": "ABX9TyNoQ+BuSmV35WFrGywAoxMI",
      "include_colab_link": true
    },
    "kernelspec": {
      "name": "python3",
      "display_name": "Python 3"
    }
  },
  "cells": [
    {
      "cell_type": "markdown",
      "metadata": {
        "id": "view-in-github",
        "colab_type": "text"
      },
      "source": [
        "<a href=\"https://colab.research.google.com/github/MaksimenkoNikolai/my_python/blob/master/Examen.ipynb\" target=\"_parent\"><img src=\"https://colab.research.google.com/assets/colab-badge.svg\" alt=\"Open In Colab\"/></a>"
      ]
    },
    {
      "cell_type": "code",
      "metadata": {
        "id": "mLGSJzmoE3yL",
        "colab_type": "code",
        "colab": {
          "base_uri": "https://localhost:8080/",
          "height": 419
        },
        "outputId": "0bba5a0f-0b12-4370-b60a-c11bfdeeda95"
      },
      "source": [
        "import pandas as pd\n",
        "\n",
        "url = \"https://raw.githubusercontent.com/dm-fedorov/pandas_basic/master/data/data_stud/stud_spisok_ege.csv\"\n",
        "\n",
        "df = pd.read_csv(url, sep=';')\n",
        "df"
      ],
      "execution_count": 3,
      "outputs": [
        {
          "output_type": "execute_result",
          "data": {
            "text/html": [
              "<div>\n",
              "<style scoped>\n",
              "    .dataframe tbody tr th:only-of-type {\n",
              "        vertical-align: middle;\n",
              "    }\n",
              "\n",
              "    .dataframe tbody tr th {\n",
              "        vertical-align: top;\n",
              "    }\n",
              "\n",
              "    .dataframe thead th {\n",
              "        text-align: right;\n",
              "    }\n",
              "</style>\n",
              "<table border=\"1\" class=\"dataframe\">\n",
              "  <thead>\n",
              "    <tr style=\"text-align: right;\">\n",
              "      <th></th>\n",
              "      <th>stud_kod</th>\n",
              "      <th>predmet_name</th>\n",
              "      <th>ball</th>\n",
              "      <th>year</th>\n",
              "      <th>svid_status</th>\n",
              "    </tr>\n",
              "  </thead>\n",
              "  <tbody>\n",
              "    <tr>\n",
              "      <th>0</th>\n",
              "      <td>50095</td>\n",
              "      <td>Русский язык</td>\n",
              "      <td>76</td>\n",
              "      <td>2013</td>\n",
              "      <td>Действительно</td>\n",
              "    </tr>\n",
              "    <tr>\n",
              "      <th>1</th>\n",
              "      <td>50095</td>\n",
              "      <td>Английский язык</td>\n",
              "      <td>94</td>\n",
              "      <td>2013</td>\n",
              "      <td>Действительно</td>\n",
              "    </tr>\n",
              "    <tr>\n",
              "      <th>2</th>\n",
              "      <td>50095</td>\n",
              "      <td>Математика</td>\n",
              "      <td>56</td>\n",
              "      <td>2013</td>\n",
              "      <td>Действительно</td>\n",
              "    </tr>\n",
              "    <tr>\n",
              "      <th>3</th>\n",
              "      <td>50095</td>\n",
              "      <td>Обществознание</td>\n",
              "      <td>70</td>\n",
              "      <td>2013</td>\n",
              "      <td>Действительно</td>\n",
              "    </tr>\n",
              "    <tr>\n",
              "      <th>4</th>\n",
              "      <td>50104</td>\n",
              "      <td>Русский язык</td>\n",
              "      <td>72</td>\n",
              "      <td>2013</td>\n",
              "      <td>Действительно</td>\n",
              "    </tr>\n",
              "    <tr>\n",
              "      <th>...</th>\n",
              "      <td>...</td>\n",
              "      <td>...</td>\n",
              "      <td>...</td>\n",
              "      <td>...</td>\n",
              "      <td>...</td>\n",
              "    </tr>\n",
              "    <tr>\n",
              "      <th>12234</th>\n",
              "      <td>47594</td>\n",
              "      <td>Математика</td>\n",
              "      <td>36</td>\n",
              "      <td>2012</td>\n",
              "      <td>Действительно</td>\n",
              "    </tr>\n",
              "    <tr>\n",
              "      <th>12235</th>\n",
              "      <td>47594</td>\n",
              "      <td>Обществознание</td>\n",
              "      <td>52</td>\n",
              "      <td>2012</td>\n",
              "      <td>Действительно</td>\n",
              "    </tr>\n",
              "    <tr>\n",
              "      <th>12236</th>\n",
              "      <td>47617</td>\n",
              "      <td>Русский язык</td>\n",
              "      <td>58</td>\n",
              "      <td>2012</td>\n",
              "      <td>Действительно</td>\n",
              "    </tr>\n",
              "    <tr>\n",
              "      <th>12237</th>\n",
              "      <td>47617</td>\n",
              "      <td>Математика</td>\n",
              "      <td>52</td>\n",
              "      <td>2012</td>\n",
              "      <td>Действительно</td>\n",
              "    </tr>\n",
              "    <tr>\n",
              "      <th>12238</th>\n",
              "      <td>47617</td>\n",
              "      <td>Обществознание</td>\n",
              "      <td>61</td>\n",
              "      <td>2012</td>\n",
              "      <td>Действительно</td>\n",
              "    </tr>\n",
              "  </tbody>\n",
              "</table>\n",
              "<p>12239 rows × 5 columns</p>\n",
              "</div>"
            ],
            "text/plain": [
              "       stud_kod     predmet_name  ball  year    svid_status\n",
              "0         50095     Русский язык    76  2013  Действительно\n",
              "1         50095  Английский язык    94  2013  Действительно\n",
              "2         50095       Математика    56  2013  Действительно\n",
              "3         50095   Обществознание    70  2013  Действительно\n",
              "4         50104     Русский язык    72  2013  Действительно\n",
              "...         ...              ...   ...   ...            ...\n",
              "12234     47594       Математика    36  2012  Действительно\n",
              "12235     47594   Обществознание    52  2012  Действительно\n",
              "12236     47617     Русский язык    58  2012  Действительно\n",
              "12237     47617       Математика    52  2012  Действительно\n",
              "12238     47617   Обществознание    61  2012  Действительно\n",
              "\n",
              "[12239 rows x 5 columns]"
            ]
          },
          "metadata": {
            "tags": []
          },
          "execution_count": 3
        }
      ]
    },
    {
      "cell_type": "markdown",
      "metadata": {
        "id": "b69qImbyHy8J",
        "colab_type": "text"
      },
      "source": [
        "**Задача 1.1: определите, сколько всего студентов представлено в наборе данных.**"
      ]
    },
    {
      "cell_type": "code",
      "metadata": {
        "id": "TOZ4c7AJE5JV",
        "colab_type": "code",
        "colab": {
          "base_uri": "https://localhost:8080/",
          "height": 34
        },
        "outputId": "df36b0b6-1d4e-4ec7-83c1-f94bc692f483"
      },
      "source": [
        "len(df.stud_kod)"
      ],
      "execution_count": 5,
      "outputs": [
        {
          "output_type": "execute_result",
          "data": {
            "text/plain": [
              "12239"
            ]
          },
          "metadata": {
            "tags": []
          },
          "execution_count": 5
        }
      ]
    },
    {
      "cell_type": "markdown",
      "metadata": {
        "id": "AD0y8WR3Ifqk",
        "colab_type": "text"
      },
      "source": [
        "**Задача 1.2: определите по данным ЕГЭ те предметы, которые чаще всего сдают абитуренты в этом вузе.**"
      ]
    },
    {
      "cell_type": "code",
      "metadata": {
        "id": "Hb0vH16zIeil",
        "colab_type": "code",
        "colab": {
          "base_uri": "https://localhost:8080/",
          "height": 306
        },
        "outputId": "a2cecebd-3022-4b94-e84c-8ffb42b07d5f"
      },
      "source": [
        "df.predmet_name.value_counts()"
      ],
      "execution_count": 12,
      "outputs": [
        {
          "output_type": "execute_result",
          "data": {
            "text/plain": [
              "Математика                  3049\n",
              "Русский язык                3045\n",
              "Обществознание              3033\n",
              "Сочинение                   1303\n",
              "Английский язык              973\n",
              "История                      348\n",
              "Физика                       170\n",
              "Информатика и ИКТ             83\n",
              "Биология                      61\n",
              "Литература                    60\n",
              "География                     39\n",
              "Химия                         29\n",
              "Немецкий язык                 28\n",
              "Французский язык              11\n",
              "Английский язык (устный)       6\n",
              "Немецкий язык (устный)         1\n",
              "Name: predmet_name, dtype: int64"
            ]
          },
          "metadata": {
            "tags": []
          },
          "execution_count": 12
        }
      ]
    },
    {
      "cell_type": "markdown",
      "metadata": {
        "id": "A_lRKV4CIsRN",
        "colab_type": "text"
      },
      "source": [
        "**Задача 1.3: определите средние, минимальные и максимальные баллы ЕГЭ по отдельным предметам.\n",
        "Выбор дисциплины реализовать через функцию input().**"
      ]
    },
    {
      "cell_type": "code",
      "metadata": {
        "id": "2oKdJB_ZI11a",
        "colab_type": "code",
        "colab": {
          "base_uri": "https://localhost:8080/",
          "height": 85
        },
        "outputId": "e0270fc3-83d7-4513-fac2-acae865e82c5"
      },
      "source": [
        "predmet=input()\n",
        "t1=df[df.predmet_name==predmet].ball.mean()\n",
        "t2=df[df.predmet_name==predmet].ball.min()\n",
        "t3=df[df.predmet_name==predmet].ball.max()\n",
        "print('Средний '+str(t1))\n",
        "print('Минимальный '+str(t2))\n",
        "print('Максимальный '+str(t3))"
      ],
      "execution_count": 40,
      "outputs": [
        {
          "output_type": "stream",
          "text": [
            "Русский язык\n",
            "Средний 79.13497536945813\n",
            "Минимальный 0\n",
            "Максимальный 100\n"
          ],
          "name": "stdout"
        }
      ]
    },
    {
      "cell_type": "markdown",
      "metadata": {
        "id": "Cx0MsedpI2In",
        "colab_type": "text"
      },
      "source": [
        "**Задача 1.4: определите годы с максимальными и минимальными показателями ЕГЭ.**"
      ]
    },
    {
      "cell_type": "code",
      "metadata": {
        "id": "Z7xBX31SI9f2",
        "colab_type": "code",
        "colab": {
          "base_uri": "https://localhost:8080/",
          "height": 51
        },
        "outputId": "a683cff8-a1b6-4ff4-df77-ed12d356c40d"
      },
      "source": [
        "t14=df.year.value_counts().index\n",
        "maxbal=0\n",
        "minbal=100000\n",
        "yearmax=0\n",
        "yearmin=0\n",
        "for i in t14:\n",
        "    if minbal>df[df.year==int(i)].ball.sum():\n",
        "        minbal=df[df.year==int(i)].ball.sum()\n",
        "        yearmin=i\n",
        "    if maxbal<df[df.year==int(i)].ball.sum():\n",
        "        maxbal=df[df.year==int(i)].ball.sum()\n",
        "        yearmax=i\n",
        "print('Год с минимальным баллом '+str(yearmin))\n",
        "print('Год с максимальным баллом '+str(yearmax))\n",
        "\n"
      ],
      "execution_count": 130,
      "outputs": [
        {
          "output_type": "stream",
          "text": [
            "Год с минимальным баллом 2009\n",
            "Год с максимальным баллом 2013\n"
          ],
          "name": "stdout"
        }
      ]
    },
    {
      "cell_type": "markdown",
      "metadata": {
        "id": "V_ZDGgNuI9vy",
        "colab_type": "text"
      },
      "source": [
        "**Задача 1.5: определите наиболее часто встречающийся вид контрольной работы в вузе.**"
      ]
    },
    {
      "cell_type": "code",
      "metadata": {
        "id": "FnVF_IDgJeEY",
        "colab_type": "code",
        "colab": {
          "base_uri": "https://localhost:8080/",
          "height": 204
        },
        "outputId": "674f7a1c-f777-4027-f6e8-1def21cee355"
      },
      "source": [
        "import pandas as pd\n",
        "\n",
        "url = \"https://raw.githubusercontent.com/dm-fedorov/pandas_basic/master/data/data_stud/stud_spisok_ball.csv\"\n",
        "\n",
        "df1 = pd.read_csv(url, sep=';')\n",
        "df1.head()"
      ],
      "execution_count": 95,
      "outputs": [
        {
          "output_type": "execute_result",
          "data": {
            "text/html": [
              "<div>\n",
              "<style scoped>\n",
              "    .dataframe tbody tr th:only-of-type {\n",
              "        vertical-align: middle;\n",
              "    }\n",
              "\n",
              "    .dataframe tbody tr th {\n",
              "        vertical-align: top;\n",
              "    }\n",
              "\n",
              "    .dataframe thead th {\n",
              "        text-align: right;\n",
              "    }\n",
              "</style>\n",
              "<table border=\"1\" class=\"dataframe\">\n",
              "  <thead>\n",
              "    <tr style=\"text-align: right;\">\n",
              "      <th></th>\n",
              "      <th>stud_kod</th>\n",
              "      <th>uch_plan_kod</th>\n",
              "      <th>predmet_name</th>\n",
              "      <th>ball</th>\n",
              "      <th>ts</th>\n",
              "      <th>cd_nomer</th>\n",
              "      <th>semestr</th>\n",
              "      <th>cd_type_name</th>\n",
              "      <th>uch_plan_punkt_kod</th>\n",
              "    </tr>\n",
              "  </thead>\n",
              "  <tbody>\n",
              "    <tr>\n",
              "      <th>0</th>\n",
              "      <td>8</td>\n",
              "      <td>1</td>\n",
              "      <td>История</td>\n",
              "      <td>25</td>\n",
              "      <td>25-дек-11</td>\n",
              "      <td>1</td>\n",
              "      <td>1</td>\n",
              "      <td>Эссе</td>\n",
              "      <td>255</td>\n",
              "    </tr>\n",
              "    <tr>\n",
              "      <th>1</th>\n",
              "      <td>8</td>\n",
              "      <td>1</td>\n",
              "      <td>История</td>\n",
              "      <td>30</td>\n",
              "      <td>25-дек-11</td>\n",
              "      <td>2</td>\n",
              "      <td>1</td>\n",
              "      <td>Презентация</td>\n",
              "      <td>255</td>\n",
              "    </tr>\n",
              "    <tr>\n",
              "      <th>2</th>\n",
              "      <td>8</td>\n",
              "      <td>1</td>\n",
              "      <td>История</td>\n",
              "      <td>45</td>\n",
              "      <td>NaN</td>\n",
              "      <td>3</td>\n",
              "      <td>1</td>\n",
              "      <td>Аналитическая работа</td>\n",
              "      <td>255</td>\n",
              "    </tr>\n",
              "    <tr>\n",
              "      <th>3</th>\n",
              "      <td>8</td>\n",
              "      <td>1</td>\n",
              "      <td>Философия</td>\n",
              "      <td>15</td>\n",
              "      <td>30-апр-15</td>\n",
              "      <td>2</td>\n",
              "      <td>1</td>\n",
              "      <td>Реферат</td>\n",
              "      <td>293</td>\n",
              "    </tr>\n",
              "    <tr>\n",
              "      <th>4</th>\n",
              "      <td>8</td>\n",
              "      <td>1</td>\n",
              "      <td>Философия</td>\n",
              "      <td>18</td>\n",
              "      <td>30-апр-15</td>\n",
              "      <td>1</td>\n",
              "      <td>1</td>\n",
              "      <td>Аналитическая работа</td>\n",
              "      <td>293</td>\n",
              "    </tr>\n",
              "  </tbody>\n",
              "</table>\n",
              "</div>"
            ],
            "text/plain": [
              "   stud_kod  uch_plan_kod  ...          cd_type_name uch_plan_punkt_kod\n",
              "0         8             1  ...                  Эссе                255\n",
              "1         8             1  ...           Презентация                255\n",
              "2         8             1  ...  Аналитическая работа                255\n",
              "3         8             1  ...               Реферат                293\n",
              "4         8             1  ...  Аналитическая работа                293\n",
              "\n",
              "[5 rows x 9 columns]"
            ]
          },
          "metadata": {
            "tags": []
          },
          "execution_count": 95
        }
      ]
    },
    {
      "cell_type": "code",
      "metadata": {
        "id": "yfsJyRTvg0gl",
        "colab_type": "code",
        "colab": {
          "base_uri": "https://localhost:8080/",
          "height": 34
        },
        "outputId": "55ea6c93-5ff8-4731-cdcf-9ad2dd511e6a"
      },
      "source": [
        "top5z=df1.cd_type_name.value_counts()\n",
        "top5z.index[0]"
      ],
      "execution_count": 55,
      "outputs": [
        {
          "output_type": "execute_result",
          "data": {
            "text/plain": [
              "'Контрольная работа'"
            ]
          },
          "metadata": {
            "tags": []
          },
          "execution_count": 55
        }
      ]
    },
    {
      "cell_type": "markdown",
      "metadata": {
        "id": "B05_gETUJdrh",
        "colab_type": "text"
      },
      "source": [
        "**Задача 1.6: определите дисциплину(ы), вызвавшую наибольшие сложности у студентов.**\n",
        "\n",
        "**Это позволит усилить подготовку по данным дисциплинам через внедрение факультативных занятий.**"
      ]
    },
    {
      "cell_type": "code",
      "metadata": {
        "id": "t8EbUo7GJpj8",
        "colab_type": "code",
        "colab": {
          "base_uri": "https://localhost:8080/",
          "height": 272
        },
        "outputId": "7f5b5590-df24-4790-eb64-84ac8e173d05"
      },
      "source": [
        "t16=df1.predmet_name.value_counts().index\n",
        "t16"
      ],
      "execution_count": 185,
      "outputs": [
        {
          "output_type": "execute_result",
          "data": {
            "text/plain": [
              "Index(['Физическая культура', 'Информатика',\n",
              "       'Иностранный язык (профессиональный)', 'Иностранный язык',\n",
              "       'Экономическая теория', 'Математический анализ', 'Линейная алгебра',\n",
              "       'Деньги, кредит, банки', 'Статистика', 'Экономическая история',\n",
              "       ...\n",
              "       'Учет и анализ (финансовый учет, управленческий учет, финансовый анализ)',\n",
              "       'Элективные курсы по физической культуре',\n",
              "       'Инновационная политика государства', 'Логистика',\n",
              "       'Развитие теории и практики управления в России',\n",
              "       'Региональная политика государства',\n",
              "       'Учебная практика по получению первичных профессиональных умений и навыков, в том числе первичных умений и навыков научно-исследовательской деятельности',\n",
              "       'Бакалаврская выпускная квалификационная работа',\n",
              "       'Учебная практика по получению первичных профессиональных умений и навыков',\n",
              "       'Стратегический менеджмент'],\n",
              "      dtype='object', length=247)"
            ]
          },
          "metadata": {
            "tags": []
          },
          "execution_count": 185
        }
      ]
    },
    {
      "cell_type": "code",
      "metadata": {
        "id": "DCnAGXFgFOMx",
        "colab_type": "code",
        "colab": {
          "base_uri": "https://localhost:8080/",
          "height": 34
        },
        "outputId": "e59f9b91-df96-4047-b4ea-a81dd1f578cb"
      },
      "source": [
        "k=df1[df1.predmet_name=='Философия'].ball\n",
        "p=0\n",
        "for i in range(0,len(k)):\n",
        "    p=float(str(i).replace(',', '.'))+p\n",
        "p"
      ],
      "execution_count": 206,
      "outputs": [
        {
          "output_type": "execute_result",
          "data": {
            "text/plain": [
              "624403.0"
            ]
          },
          "metadata": {
            "tags": []
          },
          "execution_count": 206
        }
      ]
    },
    {
      "cell_type": "code",
      "metadata": {
        "id": "zG1N8nik_xAY",
        "colab_type": "code",
        "colab": {
          "base_uri": "https://localhost:8080/",
          "height": 377
        },
        "outputId": "d86c417a-50ae-4db6-dc57-81fdcb102b71"
      },
      "source": [
        "sumlist=[]\n",
        "l=0\n",
        "for i in t16:\n",
        "    k=df1[df1.predmet_name==i].ball\n",
        "    p=0\n",
        "    for i in range(0,len(k)):\n",
        "        p=float(str(i).replace(',', '.'))+p\n",
        "    sumlist.append(p)\n",
        "print(sumlist)\n",
        "t16[len(t16)-20:len(t16)]\n",
        "\n",
        "\n"
      ],
      "execution_count": 226,
      "outputs": [
        {
          "output_type": "stream",
          "text": [
            "[4747821.0, 4382280.0, 2143485.0, 1880830.0, 1706628.0, 1680861.0, 1230096.0, 1166628.0, 1006071.0, 986310.0, 869221.0, 858705.0, 854778.0, 845650.0, 823686.0, 809628.0, 804546.0, 788140.0, 785631.0, 624403.0, 555985.0, 553878.0, 548628.0, 548628.0, 544446.0, 527878.0, 500500.0, 492528.0, 351541.0, 349030.0, 305371.0, 299151.0, 227475.0, 185136.0, 172578.0, 129286.0, 124251.0, 101475.0, 96141.0, 85905.0, 81406.0, 56953.0, 52975.0, 49770.0, 47586.0, 40755.0, 39060.0, 36585.0, 35245.0, 34191.0, 32896.0, 31878.0, 28920.0, 23653.0, 23005.0, 21321.0, 20706.0, 20503.0, 20503.0, 20301.0, 19900.0, 19701.0, 19701.0, 17578.0, 16836.0, 16110.0, 15931.0, 15931.0, 15225.0, 15225.0, 15225.0, 15225.0, 13366.0, 12880.0, 12246.0, 11628.0, 11628.0, 11476.0, 11325.0, 11026.0, 10878.0, 10731.0, 10585.0, 10011.0, 10011.0, 9870.0, 9730.0, 9730.0, 9730.0, 9730.0, 7750.0, 6670.0, 6555.0, 6328.0, 6105.0, 5778.0, 5778.0, 5460.0, 4560.0, 3828.0, 3828.0, 3828.0, 3828.0, 3828.0, 3828.0, 3741.0, 3741.0, 3486.0, 3486.0, 3486.0, 3486.0, 3486.0, 3486.0, 3486.0, 3321.0, 3321.0, 2628.0, 2415.0, 2346.0, 2211.0, 2145.0, 2145.0, 2145.0, 2145.0, 2145.0, 2145.0, 2145.0, 2145.0, 2080.0, 2080.0, 2016.0, 1953.0, 1953.0, 1953.0, 1953.0, 1953.0, 1953.0, 1953.0, 1953.0, 1770.0, 1485.0, 1485.0, 1485.0, 1431.0, 1326.0, 1275.0, 1275.0, 1225.0, 1225.0, 1225.0, 1225.0, 1225.0, 1176.0, 1176.0, 1128.0, 1081.0, 1035.0, 1035.0, 990.0, 990.0, 946.0, 946.0, 946.0, 946.0, 946.0, 946.0, 946.0, 946.0, 946.0, 946.0, 946.0, 946.0, 946.0, 861.0, 780.0, 780.0, 780.0, 780.0, 780.0, 780.0, 780.0, 780.0, 780.0, 703.0, 703.0, 703.0, 595.0, 595.0, 595.0, 595.0, 561.0, 528.0, 528.0, 528.0, 528.0, 528.0, 528.0, 528.0, 528.0, 528.0, 528.0, 528.0, 528.0, 496.0, 465.0, 435.0, 435.0, 435.0, 435.0, 435.0, 435.0, 435.0, 435.0, 435.0, 435.0, 435.0, 378.0, 378.0, 378.0, 276.0, 210.0, 210.0, 190.0, 171.0, 91.0, 91.0, 45.0, 15.0, 10.0, 10.0, 10.0, 10.0, 10.0, 6.0, 6.0, 6.0, 6.0, 6.0, 3.0, 3.0, 3.0, 3.0, 3.0, 1.0, 0.0, 0.0, 0.0]\n"
          ],
          "name": "stdout"
        },
        {
          "output_type": "execute_result",
          "data": {
            "text/plain": [
              "Index(['Природопользование', 'Выборочные методы и обследования',\n",
              "       'Учетно-аналитическое обеспечение управления организацией',\n",
              "       'Национальная экономика',\n",
              "       'Многомерный статистический анализ в экономике',\n",
              "       'Математические пакеты прикладных программ',\n",
              "       'Международные стандарты финансовой отчетности',\n",
              "       'Современные технологические системы',\n",
              "       'Взаимодействие государства и бизнеса',\n",
              "       'Экономика и организация предприятия и производства',\n",
              "       'Учет и анализ (финансовый учет, управленческий учет, финансовый анализ)',\n",
              "       'Элективные курсы по физической культуре',\n",
              "       'Инновационная политика государства', 'Логистика',\n",
              "       'Развитие теории и практики управления в России',\n",
              "       'Региональная политика государства',\n",
              "       'Учебная практика по получению первичных профессиональных умений и навыков, в том числе первичных умений и навыков научно-исследовательской деятельности',\n",
              "       'Бакалаврская выпускная квалификационная работа',\n",
              "       'Учебная практика по получению первичных профессиональных умений и навыков',\n",
              "       'Стратегический менеджмент'],\n",
              "      dtype='object')"
            ]
          },
          "metadata": {
            "tags": []
          },
          "execution_count": 226
        }
      ]
    },
    {
      "cell_type": "markdown",
      "metadata": {
        "id": "AREbCDh6JqEL",
        "colab_type": "text"
      },
      "source": [
        "**Задача 1.7: определите отстающих студентов (претендентов на отчисление).**"
      ]
    },
    {
      "cell_type": "code",
      "metadata": {
        "id": "ofIIEeYEJugW",
        "colab_type": "code",
        "colab": {
          "base_uri": "https://localhost:8080/",
          "height": 68
        },
        "outputId": "bd262fc2-8da1-4973-a944-40914b318324"
      },
      "source": [
        "t71=df1.stud_kod.value_counts().index\n",
        "list17=[]\n",
        "for i in t71:\n",
        "    k=df1[df1.stud_kod==i].ball\n",
        "    p=0\n",
        "    for i in range(0,len(k)):\n",
        "        p=float(str(i).replace(',', '.'))+p\n",
        "    list17.append(p)\n",
        "t71[len(t71)-20:len(t71)]"
      ],
      "execution_count": 227,
      "outputs": [
        {
          "output_type": "execute_result",
          "data": {
            "text/plain": [
              "Int64Index([ 946, 2332,  958,  727,  631, 1926, 1128,  427, 1662, 1335, 2653,\n",
              "            1704,  703,  715, 2452, 1610, 1305,  776, 2682, 1758],\n",
              "           dtype='int64')"
            ]
          },
          "metadata": {
            "tags": []
          },
          "execution_count": 227
        }
      ]
    },
    {
      "cell_type": "markdown",
      "metadata": {
        "id": "eWmv8LBOJuID",
        "colab_type": "text"
      },
      "source": [
        "**Задача 1.8: определите семестр и год, наиболее сложные для отдельных (выбранных) студентов.**\n",
        "\n",
        "**Выбор id-студента реализовать через функцию input().**"
      ]
    },
    {
      "cell_type": "code",
      "metadata": {
        "id": "ycYnwuzpJ1IB",
        "colab_type": "code",
        "colab": {
          "base_uri": "https://localhost:8080/",
          "height": 51
        },
        "outputId": "fba934e6-9492-4e61-9cc1-5a0b0732ea4f"
      },
      "source": [
        "studID=input()\n",
        "sembal=[]\n",
        "t181=df1[df1.stud_kod==int(studID)].semestr.value_counts().index\n",
        "t18=df1[df1.stud_kod==int(studID)]\n",
        "for j in t181:\n",
        "    tfor1=t18[t18.semestr==j].ball.dropna()\n",
        "    p=0\n",
        "    for i in tfor1:\n",
        "        p=float(str(i).replace(',', '.'))+p\n",
        "    sembal.append(p)\n",
        "\n",
        "\n",
        "print('Сложный семестр '+str(t181[sembal.index(min(sembal))]))\n",
        "\n"
      ],
      "execution_count": 352,
      "outputs": [
        {
          "output_type": "stream",
          "text": [
            "8\n",
            "Сложный семестр 8\n"
          ],
          "name": "stdout"
        }
      ]
    },
    {
      "cell_type": "markdown",
      "metadata": {
        "id": "bXQxXpkEJ1id",
        "colab_type": "text"
      },
      "source": [
        "**Задача 1.9: определите, можно ли провести анализ интересов отдельных (выбранных) студентов, исходя из баллов по контрольным работам.**\n",
        "\n",
        "**Если да, то каким образом?**\n",
        "\n",
        "**Эта информация позволит в будущем рекомендовать студентам подходящие магистерские программы.**"
      ]
    },
    {
      "cell_type": "code",
      "metadata": {
        "id": "aZYXz_d8J9RY",
        "colab_type": "code",
        "colab": {
          "base_uri": "https://localhost:8080/",
          "height": 51
        },
        "outputId": "cd442bc7-02f5-40f2-df53-07d01c63a0c6"
      },
      "source": [
        "studID=int(input())\n",
        "t19=df1[df1.stud_kod==studID]\n",
        "t20=t19.predmet_name.value_counts()\n",
        "t20.index[0]\n",
        "\n",
        "\n"
      ],
      "execution_count": 375,
      "outputs": [
        {
          "output_type": "stream",
          "text": [
            "8\n"
          ],
          "name": "stdout"
        },
        {
          "output_type": "execute_result",
          "data": {
            "text/plain": [
              "'Информатика'"
            ]
          },
          "metadata": {
            "tags": []
          },
          "execution_count": 375
        }
      ]
    },
    {
      "cell_type": "markdown",
      "metadata": {
        "id": "TlCzCblJJ9by",
        "colab_type": "text"
      },
      "source": [
        "**Задача 1.10: Предложите решение и приведите программный код, каким образом по представленным данным отследить динамику успеваемости отдельных (выбранных) студентов?**\n",
        "\n",
        "**Выбор id-студента реализовать через функцию input().**"
      ]
    },
    {
      "cell_type": "code",
      "metadata": {
        "id": "I3NfgRA2KDeu",
        "colab_type": "code",
        "colab": {}
      },
      "source": [
        ""
      ],
      "execution_count": null,
      "outputs": []
    }
  ]
}