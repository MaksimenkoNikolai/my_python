{
  "nbformat": 4,
  "nbformat_minor": 0,
  "metadata": {
    "colab": {
      "name": "Untitled7.ipynb",
      "provenance": [],
      "toc_visible": true,
      "authorship_tag": "ABX9TyOTnAtkSmj9WM0WYB8dn2dE",
      "include_colab_link": true
    },
    "kernelspec": {
      "name": "python3",
      "display_name": "Python 3"
    }
  },
  "cells": [
    {
      "cell_type": "markdown",
      "metadata": {
        "id": "view-in-github",
        "colab_type": "text"
      },
      "source": [
        "<a href=\"https://colab.research.google.com/github/MaksimenkoNikolai/my_python/blob/master/football1.ipynb\" target=\"_parent\"><img src=\"https://colab.research.google.com/assets/colab-badge.svg\" alt=\"Open In Colab\"/></a>"
      ]
    },
    {
      "cell_type": "code",
      "metadata": {
        "id": "xo_aXKFkqUG1",
        "colab_type": "code",
        "colab": {
          "base_uri": "https://localhost:8080/",
          "height": 163
        },
        "outputId": "2a8dc787-32d9-4b7e-cfe8-ccf0d400e09a"
      },
      "source": [
        "pd.read_csv('https://raw.githubusercontent.com/dm-fedorov/pandas_basic/master/data/football.csv')"
      ],
      "execution_count": 1,
      "outputs": [
        {
          "output_type": "error",
          "ename": "NameError",
          "evalue": "ignored",
          "traceback": [
            "\u001b[0;31m---------------------------------------------------------------------------\u001b[0m",
            "\u001b[0;31mNameError\u001b[0m                                 Traceback (most recent call last)",
            "\u001b[0;32m<ipython-input-1-3f08ed75c096>\u001b[0m in \u001b[0;36m<module>\u001b[0;34m()\u001b[0m\n\u001b[0;32m----> 1\u001b[0;31m \u001b[0mpd\u001b[0m\u001b[0;34m.\u001b[0m\u001b[0mread_csv\u001b[0m\u001b[0;34m(\u001b[0m\u001b[0;34m'https://raw.githubusercontent.com/dm-fedorov/pandas_basic/master/data/football.csv'\u001b[0m\u001b[0;34m)\u001b[0m\u001b[0;34m\u001b[0m\u001b[0;34m\u001b[0m\u001b[0m\n\u001b[0m",
            "\u001b[0;31mNameError\u001b[0m: name 'pd' is not defined"
          ]
        }
      ]
    },
    {
      "cell_type": "code",
      "metadata": {
        "id": "OVCwrTQlseaE",
        "colab_type": "code",
        "colab": {
          "base_uri": "https://localhost:8080/",
          "height": 626
        },
        "outputId": "f42870bf-0329-4402-ea81-21ec020ce354"
      },
      "source": [
        "import pandas as pd\n",
        "\n",
        "url = \"https://raw.githubusercontent.com/dm-fedorov/pandas_basic/master/data/football.csv\"\n",
        "\n",
        "football = pd.read_csv(url)\n",
        "football"
      ],
      "execution_count": 24,
      "outputs": [
        {
          "output_type": "execute_result",
          "data": {
            "text/html": [
              "<div>\n",
              "<style scoped>\n",
              "    .dataframe tbody tr th:only-of-type {\n",
              "        vertical-align: middle;\n",
              "    }\n",
              "\n",
              "    .dataframe tbody tr th {\n",
              "        vertical-align: top;\n",
              "    }\n",
              "\n",
              "    .dataframe thead th {\n",
              "        text-align: right;\n",
              "    }\n",
              "</style>\n",
              "<table border=\"1\" class=\"dataframe\">\n",
              "  <thead>\n",
              "    <tr style=\"text-align: right;\">\n",
              "      <th></th>\n",
              "      <th>Unnamed: 0</th>\n",
              "      <th>Name</th>\n",
              "      <th>Age</th>\n",
              "      <th>Nationality</th>\n",
              "      <th>Club</th>\n",
              "      <th>Value</th>\n",
              "      <th>Wage</th>\n",
              "      <th>Position</th>\n",
              "      <th>Crossing</th>\n",
              "      <th>Finishing</th>\n",
              "      <th>HeadingAccuracy</th>\n",
              "      <th>ShortPassing</th>\n",
              "      <th>Volleys</th>\n",
              "      <th>Dribbling</th>\n",
              "      <th>Curve</th>\n",
              "      <th>FKAccuracy</th>\n",
              "      <th>LongPassing</th>\n",
              "      <th>BallControl</th>\n",
              "      <th>Acceleration</th>\n",
              "      <th>SprintSpeed</th>\n",
              "      <th>Agility</th>\n",
              "      <th>Reactions</th>\n",
              "      <th>Balance</th>\n",
              "      <th>ShotPower</th>\n",
              "      <th>Jumping</th>\n",
              "      <th>Stamina</th>\n",
              "      <th>Strength</th>\n",
              "      <th>LongShots</th>\n",
              "      <th>Aggression</th>\n",
              "      <th>Interceptions</th>\n",
              "      <th>Positioning</th>\n",
              "      <th>Vision</th>\n",
              "      <th>Penalties</th>\n",
              "      <th>Composure</th>\n",
              "      <th>Marking</th>\n",
              "      <th>StandingTackle</th>\n",
              "      <th>SlidingTackle</th>\n",
              "      <th>GKDiving</th>\n",
              "      <th>GKHandling</th>\n",
              "      <th>GKKicking</th>\n",
              "      <th>GKPositioning</th>\n",
              "      <th>GKReflexes</th>\n",
              "    </tr>\n",
              "  </thead>\n",
              "  <tbody>\n",
              "    <tr>\n",
              "      <th>0</th>\n",
              "      <td>0</td>\n",
              "      <td>L. Messi</td>\n",
              "      <td>31</td>\n",
              "      <td>Argentina</td>\n",
              "      <td>FC Barcelona</td>\n",
              "      <td>110500000</td>\n",
              "      <td>565000</td>\n",
              "      <td>RF</td>\n",
              "      <td>84</td>\n",
              "      <td>95</td>\n",
              "      <td>70</td>\n",
              "      <td>90</td>\n",
              "      <td>86</td>\n",
              "      <td>97</td>\n",
              "      <td>93</td>\n",
              "      <td>94</td>\n",
              "      <td>87</td>\n",
              "      <td>96</td>\n",
              "      <td>91</td>\n",
              "      <td>86</td>\n",
              "      <td>91</td>\n",
              "      <td>95</td>\n",
              "      <td>95</td>\n",
              "      <td>85</td>\n",
              "      <td>68</td>\n",
              "      <td>72</td>\n",
              "      <td>59</td>\n",
              "      <td>94</td>\n",
              "      <td>48</td>\n",
              "      <td>22</td>\n",
              "      <td>94</td>\n",
              "      <td>94</td>\n",
              "      <td>75</td>\n",
              "      <td>96</td>\n",
              "      <td>33</td>\n",
              "      <td>28</td>\n",
              "      <td>26</td>\n",
              "      <td>6</td>\n",
              "      <td>11</td>\n",
              "      <td>15</td>\n",
              "      <td>14</td>\n",
              "      <td>8</td>\n",
              "    </tr>\n",
              "    <tr>\n",
              "      <th>1</th>\n",
              "      <td>1</td>\n",
              "      <td>Cristiano Ronaldo</td>\n",
              "      <td>33</td>\n",
              "      <td>Portugal</td>\n",
              "      <td>Juventus</td>\n",
              "      <td>77000000</td>\n",
              "      <td>405000</td>\n",
              "      <td>ST</td>\n",
              "      <td>84</td>\n",
              "      <td>94</td>\n",
              "      <td>89</td>\n",
              "      <td>81</td>\n",
              "      <td>87</td>\n",
              "      <td>88</td>\n",
              "      <td>81</td>\n",
              "      <td>76</td>\n",
              "      <td>77</td>\n",
              "      <td>94</td>\n",
              "      <td>89</td>\n",
              "      <td>91</td>\n",
              "      <td>87</td>\n",
              "      <td>96</td>\n",
              "      <td>70</td>\n",
              "      <td>95</td>\n",
              "      <td>95</td>\n",
              "      <td>88</td>\n",
              "      <td>79</td>\n",
              "      <td>93</td>\n",
              "      <td>63</td>\n",
              "      <td>29</td>\n",
              "      <td>95</td>\n",
              "      <td>82</td>\n",
              "      <td>85</td>\n",
              "      <td>95</td>\n",
              "      <td>28</td>\n",
              "      <td>31</td>\n",
              "      <td>23</td>\n",
              "      <td>7</td>\n",
              "      <td>11</td>\n",
              "      <td>15</td>\n",
              "      <td>14</td>\n",
              "      <td>11</td>\n",
              "    </tr>\n",
              "    <tr>\n",
              "      <th>2</th>\n",
              "      <td>2</td>\n",
              "      <td>Neymar Jr</td>\n",
              "      <td>26</td>\n",
              "      <td>Brazil</td>\n",
              "      <td>Paris Saint-Germain</td>\n",
              "      <td>118500000</td>\n",
              "      <td>290000</td>\n",
              "      <td>LW</td>\n",
              "      <td>79</td>\n",
              "      <td>87</td>\n",
              "      <td>62</td>\n",
              "      <td>84</td>\n",
              "      <td>84</td>\n",
              "      <td>96</td>\n",
              "      <td>88</td>\n",
              "      <td>87</td>\n",
              "      <td>78</td>\n",
              "      <td>95</td>\n",
              "      <td>94</td>\n",
              "      <td>90</td>\n",
              "      <td>96</td>\n",
              "      <td>94</td>\n",
              "      <td>84</td>\n",
              "      <td>80</td>\n",
              "      <td>61</td>\n",
              "      <td>81</td>\n",
              "      <td>49</td>\n",
              "      <td>82</td>\n",
              "      <td>56</td>\n",
              "      <td>36</td>\n",
              "      <td>89</td>\n",
              "      <td>87</td>\n",
              "      <td>81</td>\n",
              "      <td>94</td>\n",
              "      <td>27</td>\n",
              "      <td>24</td>\n",
              "      <td>33</td>\n",
              "      <td>9</td>\n",
              "      <td>9</td>\n",
              "      <td>15</td>\n",
              "      <td>15</td>\n",
              "      <td>11</td>\n",
              "    </tr>\n",
              "    <tr>\n",
              "      <th>3</th>\n",
              "      <td>3</td>\n",
              "      <td>De Gea</td>\n",
              "      <td>27</td>\n",
              "      <td>Spain</td>\n",
              "      <td>Manchester United</td>\n",
              "      <td>72000000</td>\n",
              "      <td>260000</td>\n",
              "      <td>GK</td>\n",
              "      <td>17</td>\n",
              "      <td>13</td>\n",
              "      <td>21</td>\n",
              "      <td>50</td>\n",
              "      <td>13</td>\n",
              "      <td>18</td>\n",
              "      <td>21</td>\n",
              "      <td>19</td>\n",
              "      <td>51</td>\n",
              "      <td>42</td>\n",
              "      <td>57</td>\n",
              "      <td>58</td>\n",
              "      <td>60</td>\n",
              "      <td>90</td>\n",
              "      <td>43</td>\n",
              "      <td>31</td>\n",
              "      <td>67</td>\n",
              "      <td>43</td>\n",
              "      <td>64</td>\n",
              "      <td>12</td>\n",
              "      <td>38</td>\n",
              "      <td>30</td>\n",
              "      <td>12</td>\n",
              "      <td>68</td>\n",
              "      <td>40</td>\n",
              "      <td>68</td>\n",
              "      <td>15</td>\n",
              "      <td>21</td>\n",
              "      <td>13</td>\n",
              "      <td>90</td>\n",
              "      <td>85</td>\n",
              "      <td>87</td>\n",
              "      <td>88</td>\n",
              "      <td>94</td>\n",
              "    </tr>\n",
              "    <tr>\n",
              "      <th>4</th>\n",
              "      <td>4</td>\n",
              "      <td>K. De Bruyne</td>\n",
              "      <td>27</td>\n",
              "      <td>Belgium</td>\n",
              "      <td>Manchester City</td>\n",
              "      <td>102000000</td>\n",
              "      <td>355000</td>\n",
              "      <td>RCM</td>\n",
              "      <td>93</td>\n",
              "      <td>82</td>\n",
              "      <td>55</td>\n",
              "      <td>92</td>\n",
              "      <td>82</td>\n",
              "      <td>86</td>\n",
              "      <td>85</td>\n",
              "      <td>83</td>\n",
              "      <td>91</td>\n",
              "      <td>91</td>\n",
              "      <td>78</td>\n",
              "      <td>76</td>\n",
              "      <td>79</td>\n",
              "      <td>91</td>\n",
              "      <td>77</td>\n",
              "      <td>91</td>\n",
              "      <td>63</td>\n",
              "      <td>90</td>\n",
              "      <td>75</td>\n",
              "      <td>91</td>\n",
              "      <td>76</td>\n",
              "      <td>61</td>\n",
              "      <td>87</td>\n",
              "      <td>94</td>\n",
              "      <td>79</td>\n",
              "      <td>88</td>\n",
              "      <td>68</td>\n",
              "      <td>58</td>\n",
              "      <td>51</td>\n",
              "      <td>15</td>\n",
              "      <td>13</td>\n",
              "      <td>5</td>\n",
              "      <td>10</td>\n",
              "      <td>13</td>\n",
              "    </tr>\n",
              "    <tr>\n",
              "      <th>...</th>\n",
              "      <td>...</td>\n",
              "      <td>...</td>\n",
              "      <td>...</td>\n",
              "      <td>...</td>\n",
              "      <td>...</td>\n",
              "      <td>...</td>\n",
              "      <td>...</td>\n",
              "      <td>...</td>\n",
              "      <td>...</td>\n",
              "      <td>...</td>\n",
              "      <td>...</td>\n",
              "      <td>...</td>\n",
              "      <td>...</td>\n",
              "      <td>...</td>\n",
              "      <td>...</td>\n",
              "      <td>...</td>\n",
              "      <td>...</td>\n",
              "      <td>...</td>\n",
              "      <td>...</td>\n",
              "      <td>...</td>\n",
              "      <td>...</td>\n",
              "      <td>...</td>\n",
              "      <td>...</td>\n",
              "      <td>...</td>\n",
              "      <td>...</td>\n",
              "      <td>...</td>\n",
              "      <td>...</td>\n",
              "      <td>...</td>\n",
              "      <td>...</td>\n",
              "      <td>...</td>\n",
              "      <td>...</td>\n",
              "      <td>...</td>\n",
              "      <td>...</td>\n",
              "      <td>...</td>\n",
              "      <td>...</td>\n",
              "      <td>...</td>\n",
              "      <td>...</td>\n",
              "      <td>...</td>\n",
              "      <td>...</td>\n",
              "      <td>...</td>\n",
              "      <td>...</td>\n",
              "      <td>...</td>\n",
              "    </tr>\n",
              "    <tr>\n",
              "      <th>12892</th>\n",
              "      <td>13121</td>\n",
              "      <td>J. Lundstram</td>\n",
              "      <td>19</td>\n",
              "      <td>England</td>\n",
              "      <td>Crewe Alexandra</td>\n",
              "      <td>1100000</td>\n",
              "      <td>1000</td>\n",
              "      <td>CM</td>\n",
              "      <td>34</td>\n",
              "      <td>38</td>\n",
              "      <td>40</td>\n",
              "      <td>49</td>\n",
              "      <td>25</td>\n",
              "      <td>42</td>\n",
              "      <td>30</td>\n",
              "      <td>34</td>\n",
              "      <td>45</td>\n",
              "      <td>43</td>\n",
              "      <td>54</td>\n",
              "      <td>57</td>\n",
              "      <td>60</td>\n",
              "      <td>49</td>\n",
              "      <td>76</td>\n",
              "      <td>43</td>\n",
              "      <td>55</td>\n",
              "      <td>40</td>\n",
              "      <td>47</td>\n",
              "      <td>38</td>\n",
              "      <td>46</td>\n",
              "      <td>46</td>\n",
              "      <td>39</td>\n",
              "      <td>52</td>\n",
              "      <td>43</td>\n",
              "      <td>45</td>\n",
              "      <td>40</td>\n",
              "      <td>48</td>\n",
              "      <td>47</td>\n",
              "      <td>10</td>\n",
              "      <td>13</td>\n",
              "      <td>7</td>\n",
              "      <td>8</td>\n",
              "      <td>9</td>\n",
              "    </tr>\n",
              "    <tr>\n",
              "      <th>12893</th>\n",
              "      <td>13122</td>\n",
              "      <td>N. Christoffersson</td>\n",
              "      <td>19</td>\n",
              "      <td>Sweden</td>\n",
              "      <td>Trelleborgs FF</td>\n",
              "      <td>60000</td>\n",
              "      <td>1000</td>\n",
              "      <td>ST</td>\n",
              "      <td>23</td>\n",
              "      <td>52</td>\n",
              "      <td>52</td>\n",
              "      <td>43</td>\n",
              "      <td>36</td>\n",
              "      <td>39</td>\n",
              "      <td>32</td>\n",
              "      <td>20</td>\n",
              "      <td>25</td>\n",
              "      <td>40</td>\n",
              "      <td>41</td>\n",
              "      <td>39</td>\n",
              "      <td>38</td>\n",
              "      <td>40</td>\n",
              "      <td>52</td>\n",
              "      <td>41</td>\n",
              "      <td>47</td>\n",
              "      <td>43</td>\n",
              "      <td>67</td>\n",
              "      <td>42</td>\n",
              "      <td>47</td>\n",
              "      <td>16</td>\n",
              "      <td>46</td>\n",
              "      <td>33</td>\n",
              "      <td>43</td>\n",
              "      <td>42</td>\n",
              "      <td>22</td>\n",
              "      <td>15</td>\n",
              "      <td>19</td>\n",
              "      <td>10</td>\n",
              "      <td>9</td>\n",
              "      <td>9</td>\n",
              "      <td>5</td>\n",
              "      <td>12</td>\n",
              "    </tr>\n",
              "    <tr>\n",
              "      <th>12894</th>\n",
              "      <td>13123</td>\n",
              "      <td>B. Worman</td>\n",
              "      <td>16</td>\n",
              "      <td>England</td>\n",
              "      <td>Cambridge United</td>\n",
              "      <td>60000</td>\n",
              "      <td>1000</td>\n",
              "      <td>ST</td>\n",
              "      <td>25</td>\n",
              "      <td>40</td>\n",
              "      <td>46</td>\n",
              "      <td>38</td>\n",
              "      <td>38</td>\n",
              "      <td>45</td>\n",
              "      <td>38</td>\n",
              "      <td>27</td>\n",
              "      <td>28</td>\n",
              "      <td>44</td>\n",
              "      <td>70</td>\n",
              "      <td>69</td>\n",
              "      <td>50</td>\n",
              "      <td>47</td>\n",
              "      <td>58</td>\n",
              "      <td>45</td>\n",
              "      <td>60</td>\n",
              "      <td>55</td>\n",
              "      <td>32</td>\n",
              "      <td>45</td>\n",
              "      <td>32</td>\n",
              "      <td>15</td>\n",
              "      <td>48</td>\n",
              "      <td>43</td>\n",
              "      <td>55</td>\n",
              "      <td>41</td>\n",
              "      <td>32</td>\n",
              "      <td>13</td>\n",
              "      <td>11</td>\n",
              "      <td>6</td>\n",
              "      <td>5</td>\n",
              "      <td>10</td>\n",
              "      <td>6</td>\n",
              "      <td>13</td>\n",
              "    </tr>\n",
              "    <tr>\n",
              "      <th>12895</th>\n",
              "      <td>13124</td>\n",
              "      <td>D. Walker-Rice</td>\n",
              "      <td>17</td>\n",
              "      <td>England</td>\n",
              "      <td>Tranmere Rovers</td>\n",
              "      <td>60000</td>\n",
              "      <td>1000</td>\n",
              "      <td>RW</td>\n",
              "      <td>44</td>\n",
              "      <td>50</td>\n",
              "      <td>39</td>\n",
              "      <td>42</td>\n",
              "      <td>40</td>\n",
              "      <td>51</td>\n",
              "      <td>34</td>\n",
              "      <td>32</td>\n",
              "      <td>32</td>\n",
              "      <td>52</td>\n",
              "      <td>61</td>\n",
              "      <td>60</td>\n",
              "      <td>52</td>\n",
              "      <td>21</td>\n",
              "      <td>71</td>\n",
              "      <td>64</td>\n",
              "      <td>42</td>\n",
              "      <td>40</td>\n",
              "      <td>48</td>\n",
              "      <td>34</td>\n",
              "      <td>33</td>\n",
              "      <td>22</td>\n",
              "      <td>44</td>\n",
              "      <td>47</td>\n",
              "      <td>50</td>\n",
              "      <td>46</td>\n",
              "      <td>20</td>\n",
              "      <td>25</td>\n",
              "      <td>27</td>\n",
              "      <td>14</td>\n",
              "      <td>6</td>\n",
              "      <td>14</td>\n",
              "      <td>8</td>\n",
              "      <td>9</td>\n",
              "    </tr>\n",
              "    <tr>\n",
              "      <th>12896</th>\n",
              "      <td>13125</td>\n",
              "      <td>G. Nugent</td>\n",
              "      <td>16</td>\n",
              "      <td>England</td>\n",
              "      <td>Tranmere Rovers</td>\n",
              "      <td>60000</td>\n",
              "      <td>1000</td>\n",
              "      <td>CM</td>\n",
              "      <td>41</td>\n",
              "      <td>34</td>\n",
              "      <td>46</td>\n",
              "      <td>48</td>\n",
              "      <td>30</td>\n",
              "      <td>43</td>\n",
              "      <td>40</td>\n",
              "      <td>34</td>\n",
              "      <td>44</td>\n",
              "      <td>51</td>\n",
              "      <td>57</td>\n",
              "      <td>55</td>\n",
              "      <td>55</td>\n",
              "      <td>51</td>\n",
              "      <td>63</td>\n",
              "      <td>43</td>\n",
              "      <td>62</td>\n",
              "      <td>47</td>\n",
              "      <td>60</td>\n",
              "      <td>32</td>\n",
              "      <td>56</td>\n",
              "      <td>42</td>\n",
              "      <td>34</td>\n",
              "      <td>49</td>\n",
              "      <td>33</td>\n",
              "      <td>43</td>\n",
              "      <td>40</td>\n",
              "      <td>43</td>\n",
              "      <td>50</td>\n",
              "      <td>10</td>\n",
              "      <td>15</td>\n",
              "      <td>9</td>\n",
              "      <td>12</td>\n",
              "      <td>9</td>\n",
              "    </tr>\n",
              "  </tbody>\n",
              "</table>\n",
              "<p>12897 rows × 42 columns</p>\n",
              "</div>"
            ],
            "text/plain": [
              "       Unnamed: 0                Name  ...  GKPositioning GKReflexes\n",
              "0               0            L. Messi  ...             14          8\n",
              "1               1   Cristiano Ronaldo  ...             14         11\n",
              "2               2           Neymar Jr  ...             15         11\n",
              "3               3              De Gea  ...             88         94\n",
              "4               4        K. De Bruyne  ...             10         13\n",
              "...           ...                 ...  ...            ...        ...\n",
              "12892       13121        J. Lundstram  ...              8          9\n",
              "12893       13122  N. Christoffersson  ...              5         12\n",
              "12894       13123           B. Worman  ...              6         13\n",
              "12895       13124      D. Walker-Rice  ...              8          9\n",
              "12896       13125           G. Nugent  ...             12          9\n",
              "\n",
              "[12897 rows x 42 columns]"
            ]
          },
          "metadata": {
            "tags": []
          },
          "execution_count": 24
        }
      ]
    },
    {
      "cell_type": "code",
      "metadata": {
        "id": "kwOb6xQSvgJF",
        "colab_type": "code",
        "colab": {
          "base_uri": "https://localhost:8080/",
          "height": 34
        },
        "outputId": "b587f1b6-d2a0-45a6-e87f-da6c28b839ab"
      },
      "source": [
        "df = pd.DataFrame([[i, i + 1.2, i + 2, 'hi'] for i in range(10)],\n",
        "                  columns=['foo', 'bar', 'baz', 'foobar'])\n",
        "df.bar.mean()"
      ],
      "execution_count": 18,
      "outputs": [
        {
          "output_type": "execute_result",
          "data": {
            "text/plain": [
              "5.7"
            ]
          },
          "metadata": {
            "tags": []
          },
          "execution_count": 18
        }
      ]
    },
    {
      "cell_type": "markdown",
      "metadata": {
        "id": "ZET1ByulLOss",
        "colab_type": "text"
      },
      "source": [
        "# **Задания:**"
      ]
    },
    {
      "cell_type": "code",
      "metadata": {
        "id": "6uNKnJEKvpJ5",
        "colab_type": "code",
        "colab": {
          "base_uri": "https://localhost:8080/",
          "height": 34
        },
        "outputId": "9ae08587-3be5-41e0-f85a-2544cf3be869"
      },
      "source": [
        "import pandas as pd\n",
        "\n",
        "url = \"https://raw.githubusercontent.com/dm-fedorov/pandas_basic/master/data/football.csv\"\n",
        "\n",
        "football = pd.read_csv(url)\n",
        "round(football.Age.mean())\n"
      ],
      "execution_count": 25,
      "outputs": [
        {
          "output_type": "execute_result",
          "data": {
            "text/plain": [
              "25"
            ]
          },
          "metadata": {
            "tags": []
          },
          "execution_count": 25
        }
      ]
    },
    {
      "cell_type": "code",
      "metadata": {
        "id": "A1ezkX6YwuBw",
        "colab_type": "code",
        "colab": {
          "base_uri": "https://localhost:8080/",
          "height": 34
        },
        "outputId": "caf4e431-04c1-4f40-9560-69d968d84c8a"
      },
      "source": [
        "football.Composure.count()"
      ],
      "execution_count": 26,
      "outputs": [
        {
          "output_type": "execute_result",
          "data": {
            "text/plain": [
              "12897"
            ]
          },
          "metadata": {
            "tags": []
          },
          "execution_count": 26
        }
      ]
    },
    {
      "cell_type": "code",
      "metadata": {
        "id": "8hDYEscWxhxz",
        "colab_type": "code",
        "colab": {
          "base_uri": "https://localhost:8080/",
          "height": 34
        },
        "outputId": "8cd15db9-cc68-451d-f8d8-b3a87836e049"
      },
      "source": [
        "round(football.ShortPassing.std(),2)"
      ],
      "execution_count": 28,
      "outputs": [
        {
          "output_type": "execute_result",
          "data": {
            "text/plain": [
              "14.74"
            ]
          },
          "metadata": {
            "tags": []
          },
          "execution_count": 28
        }
      ]
    },
    {
      "cell_type": "code",
      "metadata": {
        "id": "Wevt4H30yl5W",
        "colab_type": "code",
        "colab": {
          "base_uri": "https://localhost:8080/",
          "height": 34
        },
        "outputId": "6cee6b09-822a-4719-b484-adb657bd9974"
      },
      "source": [
        "football.Wage.sum()"
      ],
      "execution_count": 29,
      "outputs": [
        {
          "output_type": "execute_result",
          "data": {
            "text/plain": [
              "96954000"
            ]
          },
          "metadata": {
            "tags": []
          },
          "execution_count": 29
        }
      ]
    },
    {
      "cell_type": "code",
      "metadata": {
        "id": "WZ0Brfm6y4PD",
        "colab_type": "code",
        "colab": {
          "base_uri": "https://localhost:8080/",
          "height": 34
        },
        "outputId": "6baa9e86-7db4-4ad9-d0ea-0825ebdf4ca7"
      },
      "source": [
        "football.Value.min()"
      ],
      "execution_count": 31,
      "outputs": [
        {
          "output_type": "execute_result",
          "data": {
            "text/plain": [
              "0"
            ]
          },
          "metadata": {
            "tags": []
          },
          "execution_count": 31
        }
      ]
    },
    {
      "cell_type": "code",
      "metadata": {
        "id": "6jEe9IlgzRFQ",
        "colab_type": "code",
        "colab": {
          "base_uri": "https://localhost:8080/",
          "height": 34
        },
        "outputId": "a3702b0b-a77e-47d1-91a8-a623f8e34fc3"
      },
      "source": [
        "round(football[football.Wage.mean()<football.Wage].SprintSpeed.mean(),2)"
      ],
      "execution_count": 38,
      "outputs": [
        {
          "output_type": "execute_result",
          "data": {
            "text/plain": [
              "67.57"
            ]
          },
          "metadata": {
            "tags": []
          },
          "execution_count": 38
        }
      ]
    },
    {
      "cell_type": "code",
      "metadata": {
        "id": "MGb6DiU41hd-",
        "colab_type": "code",
        "colab": {
          "base_uri": "https://localhost:8080/",
          "height": 34
        },
        "outputId": "397515a3-d2c9-44e5-96ff-25b59dd8c361"
      },
      "source": [
        "round(football[football.Wage.mean()>football.Wage].SprintSpeed.mean(),2)"
      ],
      "execution_count": 39,
      "outputs": [
        {
          "output_type": "execute_result",
          "data": {
            "text/plain": [
              "62.41"
            ]
          },
          "metadata": {
            "tags": []
          },
          "execution_count": 39
        }
      ]
    },
    {
      "cell_type": "code",
      "metadata": {
        "id": "Awbfrq2m1teD",
        "colab_type": "code",
        "colab": {
          "base_uri": "https://localhost:8080/",
          "height": 34
        },
        "outputId": "a1f60a6a-3c0c-434b-f97e-20da5f30689f"
      },
      "source": [
        "football.Wage.max()"
      ],
      "execution_count": 48,
      "outputs": [
        {
          "output_type": "execute_result",
          "data": {
            "text/plain": [
              "565000"
            ]
          },
          "metadata": {
            "tags": []
          },
          "execution_count": 48
        }
      ]
    },
    {
      "cell_type": "code",
      "metadata": {
        "id": "_Lmz9HHP14Mg",
        "colab_type": "code",
        "colab": {
          "base_uri": "https://localhost:8080/",
          "height": 34
        },
        "outputId": "5cc04b6e-19e9-4806-e3fa-0e377650ca89"
      },
      "source": [
        "football[football.Nationality == 'Brazil'].Penalties.sum()"
      ],
      "execution_count": 52,
      "outputs": [
        {
          "output_type": "execute_result",
          "data": {
            "text/plain": [
              "22789"
            ]
          },
          "metadata": {
            "tags": []
          },
          "execution_count": 52
        }
      ]
    },
    {
      "cell_type": "code",
      "metadata": {
        "id": "6yHrrT2A2iRY",
        "colab_type": "code",
        "colab": {
          "base_uri": "https://localhost:8080/",
          "height": 34
        },
        "outputId": "ffb7a6d9-3a7c-403f-bb0d-b607a41c9dfb"
      },
      "source": [
        "round(football[football.HeadingAccuracy>50].Age.mean(),2)"
      ],
      "execution_count": 54,
      "outputs": [
        {
          "output_type": "execute_result",
          "data": {
            "text/plain": [
              "25.59"
            ]
          },
          "metadata": {
            "tags": []
          },
          "execution_count": 54
        }
      ]
    },
    {
      "cell_type": "code",
      "metadata": {
        "id": "HXMDSvwt8ySP",
        "colab_type": "code",
        "colab": {
          "base_uri": "https://localhost:8080/",
          "height": 68
        },
        "outputId": "c6a6b193-d52b-4035-b834-67b583e84d22"
      },
      "source": [
        "treac=round(football.Reactions.max()/100*90-0.5)\n",
        "tcomp=round(football.Composure.max()/100*90-0.5)\n",
        "t=football[football.Reactions>treac]\n",
        "t[football.Composure>tcomp].Age.min()\n"
      ],
      "execution_count": 91,
      "outputs": [
        {
          "output_type": "stream",
          "text": [
            "/usr/local/lib/python3.6/dist-packages/ipykernel_launcher.py:4: UserWarning: Boolean Series key will be reindexed to match DataFrame index.\n",
            "  after removing the cwd from sys.path.\n"
          ],
          "name": "stderr"
        },
        {
          "output_type": "execute_result",
          "data": {
            "text/plain": [
              "24"
            ]
          },
          "metadata": {
            "tags": []
          },
          "execution_count": 91
        }
      ]
    },
    {
      "cell_type": "code",
      "metadata": {
        "id": "ihqCCzvQBH7Y",
        "colab_type": "code",
        "colab": {
          "base_uri": "https://localhost:8080/",
          "height": 34
        },
        "outputId": "063330b2-bc7f-4da9-ae3b-d369e37130ae"
      },
      "source": [
        "old=football[football.Age == football.Age.max()].Reactions.mean()\n",
        "young=football[football.Age == football.Age.min()].Reactions.mean()\n",
        "round(old-young,2)"
      ],
      "execution_count": 101,
      "outputs": [
        {
          "output_type": "execute_result",
          "data": {
            "text/plain": [
              "22.64"
            ]
          },
          "metadata": {
            "tags": []
          },
          "execution_count": 101
        }
      ]
    },
    {
      "cell_type": "code",
      "metadata": {
        "id": "IhwOLwQ6FzhF",
        "colab_type": "code",
        "colab": {
          "base_uri": "https://localhost:8080/",
          "height": 34
        },
        "outputId": "a4259ced-1879-43ca-bd71-168de69e437d"
      },
      "source": [
        "l=football[football[football.Position=='GK'].GKReflexes.max()==football.GKReflexes].Wage.max()\n",
        "l2=football[football[football.Position=='GK'].GKHandling.max()==football.GKHandling].Wage.max()\n",
        "round(l/l2,2)"
      ],
      "execution_count": 132,
      "outputs": [
        {
          "output_type": "execute_result",
          "data": {
            "text/plain": [
              "2.77"
            ]
          },
          "metadata": {
            "tags": []
          },
          "execution_count": 132
        }
      ]
    },
    {
      "cell_type": "code",
      "metadata": {
        "id": "hqEuW3WgIOr_",
        "colab_type": "code",
        "colab": {
          "base_uri": "https://localhost:8080/",
          "height": 34
        },
        "outputId": "485a1295-afbd-4f73-da79-8b6fd4780907"
      },
      "source": [
        "t1=football[football.Aggression.max()==football.Aggression].ShotPower.mean()\n",
        "t2=football[football.Aggression.min()==football.Aggression].ShotPower.mean()\n",
        "round(t1/t2,2)"
      ],
      "execution_count": 137,
      "outputs": [
        {
          "output_type": "execute_result",
          "data": {
            "text/plain": [
              "2.08"
            ]
          },
          "metadata": {
            "tags": []
          },
          "execution_count": 137
        }
      ]
    },
    {
      "cell_type": "code",
      "metadata": {
        "id": "2QFeWd2jKeoa",
        "colab_type": "code",
        "colab": {}
      },
      "source": [
        ""
      ],
      "execution_count": 0,
      "outputs": []
    }
  ]
}