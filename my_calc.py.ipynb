{
 "cells": [
  {
   "cell_type": "code",
   "execution_count": null,
   "metadata": {},
   "outputs": [],
   "source": [
    "while True:\n",
    "    a, b  =  0, 0\n",
    "    try:\n",
    "        print(\"Введите числа\")\n",
    "        \n",
    "        try:\n",
    "            a, b = input().split()\n",
    "        except valueErr:\n",
    "            print(\"Неверное количсетво переменных!, попробуйте снова (Введите 2 числа!)\")\n",
    "            continue\n",
    "        a, b  = float(a), float(b)\n",
    "    except valueErr:\n",
    "        print(\"Неверно введены числа, попытайтесь еще раз\")\n",
    "        continue\n",
    "    print(\"Введите знак\")\n",
    "    c = input()\n",
    "    if c == \"+\":\n",
    "        print(a + b)\n",
    "    elif c == \"-\":\n",
    "        print(a - b)\n",
    "    elif c == \"*\":\n",
    "        print(a * b)\n",
    "    elif c == \"/\":\n",
    "        try:\n",
    "            \n",
    "            print(a / b)\n",
    "        except zeroErr:\n",
    "            print(\"На ноль делить нельзя! Введите числа еще раз.\")\n",
    "            continue\n",
    "    else:\n",
    "        print(\"Неверно введен знак! Повторите попытку\")\n",
    "        continue"
   ]
  },
  {
   "cell_type": "code",
   "execution_count": null,
   "metadata": {},
   "outputs": [],
   "source": []
  }
 ],
 "metadata": {
  "kernelspec": {
   "display_name": "Python 3",
   "language": "python",
   "name": "python3"
  },
  "language_info": {
   "codemirror_mode": {
    "name": "ipython",
    "version": 3
   },
   "file_extension": ".py",
   "mimetype": "text/x-python",
   "name": "python",
   "nbconvert_exporter": "python",
   "pygments_lexer": "ipython3",
   "version": "3.7.6"
  }
 },
 "nbformat": 4,
 "nbformat_minor": 4
}
