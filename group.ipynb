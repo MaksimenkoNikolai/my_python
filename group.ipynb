{
  "nbformat": 4,
  "nbformat_minor": 0,
  "metadata": {
    "colab": {
      "name": "Untitled10.ipynb",
      "provenance": [],
      "toc_visible": true,
      "authorship_tag": "ABX9TyNBcaHMZpsvTPk38GxGOrf3",
      "include_colab_link": true
    },
    "kernelspec": {
      "name": "python3",
      "display_name": "Python 3"
    }
  },
  "cells": [
    {
      "cell_type": "markdown",
      "metadata": {
        "id": "view-in-github",
        "colab_type": "text"
      },
      "source": [
        "<a href=\"https://colab.research.google.com/github/MaksimenkoNikolai/my_python/blob/master/group.ipynb\" target=\"_parent\"><img src=\"https://colab.research.google.com/assets/colab-badge.svg\" alt=\"Open In Colab\"/></a>"
      ]
    },
    {
      "cell_type": "code",
      "metadata": {
        "id": "dOILPvN7yBEl",
        "colab_type": "code",
        "colab": {
          "base_uri": "https://localhost:8080/",
          "height": 421
        },
        "outputId": "a2f92929-7c78-4435-aa9d-8e0d0d83ab4c"
      },
      "source": [
        "import pandas as pd\n",
        "df = pd.read_csv(\"https://raw.githubusercontent.com/dm-fedorov/python_basic/master/data/vkontakte_group_01_2016-08-01_2020-03-15.csv\")\n",
        "df.head(12)"
      ],
      "execution_count": 3,
      "outputs": [
        {
          "output_type": "execute_result",
          "data": {
            "text/html": [
              "<div>\n",
              "<style scoped>\n",
              "    .dataframe tbody tr th:only-of-type {\n",
              "        vertical-align: middle;\n",
              "    }\n",
              "\n",
              "    .dataframe tbody tr th {\n",
              "        vertical-align: top;\n",
              "    }\n",
              "\n",
              "    .dataframe thead th {\n",
              "        text-align: right;\n",
              "    }\n",
              "</style>\n",
              "<table border=\"1\" class=\"dataframe\">\n",
              "  <thead>\n",
              "    <tr style=\"text-align: right;\">\n",
              "      <th></th>\n",
              "      <th>Дата</th>\n",
              "      <th>Критерий</th>\n",
              "      <th>Парам. №1</th>\n",
              "      <th>Парам. №2</th>\n",
              "      <th>Значение</th>\n",
              "    </tr>\n",
              "  </thead>\n",
              "  <tbody>\n",
              "    <tr>\n",
              "      <th>0</th>\n",
              "      <td>15.03.2020</td>\n",
              "      <td>views</td>\n",
              "      <td>NaN</td>\n",
              "      <td>NaN</td>\n",
              "      <td>4</td>\n",
              "    </tr>\n",
              "    <tr>\n",
              "      <th>1</th>\n",
              "      <td>15.03.2020</td>\n",
              "      <td>visitors</td>\n",
              "      <td>NaN</td>\n",
              "      <td>NaN</td>\n",
              "      <td>3</td>\n",
              "    </tr>\n",
              "    <tr>\n",
              "      <th>2</th>\n",
              "      <td>15.03.2020</td>\n",
              "      <td>gender</td>\n",
              "      <td>М</td>\n",
              "      <td>NaN</td>\n",
              "      <td>3</td>\n",
              "    </tr>\n",
              "    <tr>\n",
              "      <th>3</th>\n",
              "      <td>15.03.2020</td>\n",
              "      <td>age</td>\n",
              "      <td>24-27</td>\n",
              "      <td>NaN</td>\n",
              "      <td>1</td>\n",
              "    </tr>\n",
              "    <tr>\n",
              "      <th>4</th>\n",
              "      <td>15.03.2020</td>\n",
              "      <td>age</td>\n",
              "      <td>30-35</td>\n",
              "      <td>NaN</td>\n",
              "      <td>2</td>\n",
              "    </tr>\n",
              "    <tr>\n",
              "      <th>5</th>\n",
              "      <td>15.03.2020</td>\n",
              "      <td>gender_age</td>\n",
              "      <td>М</td>\n",
              "      <td>24-27</td>\n",
              "      <td>1</td>\n",
              "    </tr>\n",
              "    <tr>\n",
              "      <th>6</th>\n",
              "      <td>15.03.2020</td>\n",
              "      <td>gender_age</td>\n",
              "      <td>М</td>\n",
              "      <td>30-35</td>\n",
              "      <td>2</td>\n",
              "    </tr>\n",
              "    <tr>\n",
              "      <th>7</th>\n",
              "      <td>15.03.2020</td>\n",
              "      <td>cities</td>\n",
              "      <td>Хабаровск</td>\n",
              "      <td>NaN</td>\n",
              "      <td>1</td>\n",
              "    </tr>\n",
              "    <tr>\n",
              "      <th>8</th>\n",
              "      <td>15.03.2020</td>\n",
              "      <td>cities</td>\n",
              "      <td>Оренбург</td>\n",
              "      <td>NaN</td>\n",
              "      <td>1</td>\n",
              "    </tr>\n",
              "    <tr>\n",
              "      <th>9</th>\n",
              "      <td>15.03.2020</td>\n",
              "      <td>countries</td>\n",
              "      <td>Россия</td>\n",
              "      <td>NaN</td>\n",
              "      <td>3</td>\n",
              "    </tr>\n",
              "    <tr>\n",
              "      <th>10</th>\n",
              "      <td>14.03.2020</td>\n",
              "      <td>views</td>\n",
              "      <td>NaN</td>\n",
              "      <td>NaN</td>\n",
              "      <td>14</td>\n",
              "    </tr>\n",
              "    <tr>\n",
              "      <th>11</th>\n",
              "      <td>14.03.2020</td>\n",
              "      <td>visitors</td>\n",
              "      <td>NaN</td>\n",
              "      <td>NaN</td>\n",
              "      <td>10</td>\n",
              "    </tr>\n",
              "  </tbody>\n",
              "</table>\n",
              "</div>"
            ],
            "text/plain": [
              "          Дата    Критерий  Парам. №1 Парам. №2  Значение\n",
              "0   15.03.2020       views        NaN       NaN         4\n",
              "1   15.03.2020    visitors        NaN       NaN         3\n",
              "2   15.03.2020      gender          М       NaN         3\n",
              "3   15.03.2020         age      24-27       NaN         1\n",
              "4   15.03.2020         age      30-35       NaN         2\n",
              "5   15.03.2020  gender_age          М     24-27         1\n",
              "6   15.03.2020  gender_age          М     30-35         2\n",
              "7   15.03.2020      cities  Хабаровск       NaN         1\n",
              "8   15.03.2020      cities   Оренбург       NaN         1\n",
              "9   15.03.2020   countries     Россия       NaN         3\n",
              "10  14.03.2020       views        NaN       NaN        14\n",
              "11  14.03.2020    visitors        NaN       NaN        10"
            ]
          },
          "metadata": {
            "tags": []
          },
          "execution_count": 3
        }
      ]
    },
    {
      "cell_type": "markdown",
      "metadata": {
        "id": "JukK16t50tWT",
        "colab_type": "text"
      },
      "source": [
        "# **1)**"
      ]
    },
    {
      "cell_type": "code",
      "metadata": {
        "id": "va4NL07LDMsE",
        "colab_type": "code",
        "colab": {}
      },
      "source": [
        "df[\"Год\"]=[i[6::] for i in df[\"Дата\"].values]"
      ],
      "execution_count": 0,
      "outputs": []
    },
    {
      "cell_type": "markdown",
      "metadata": {
        "id": "sHfw4CABHVJU",
        "colab_type": "text"
      },
      "source": [
        "Просмотры:"
      ]
    },
    {
      "cell_type": "code",
      "metadata": {
        "id": "Oawz8RZzFrMA",
        "colab_type": "code",
        "colab": {
          "base_uri": "https://localhost:8080/",
          "height": 136
        },
        "outputId": "ca05b83b-33a2-4287-a0c4-4fc45043f835"
      },
      "source": [
        "df.loc[df[\"Критерий\"]==\"views\"].groupby([\"Год\"])[\"Значение\"].sum()"
      ],
      "execution_count": 15,
      "outputs": [
        {
          "output_type": "execute_result",
          "data": {
            "text/plain": [
              "Год\n",
              "2016     7199\n",
              "2017    11872\n",
              "2018     7055\n",
              "2019     8754\n",
              "2020     1444\n",
              "Name: Значение, dtype: int64"
            ]
          },
          "metadata": {
            "tags": []
          },
          "execution_count": 15
        }
      ]
    },
    {
      "cell_type": "markdown",
      "metadata": {
        "id": "VGcTO76jHYom",
        "colab_type": "text"
      },
      "source": [
        "Посещения:"
      ]
    },
    {
      "cell_type": "code",
      "metadata": {
        "id": "sGh8ajE9GtWu",
        "colab_type": "code",
        "colab": {
          "base_uri": "https://localhost:8080/",
          "height": 136
        },
        "outputId": "a49b477a-88dc-4f59-efa7-a4bc8efc6215"
      },
      "source": [
        "df.loc[df[\"Критерий\"]==\"visitors\"].groupby([\"Год\"])[\"Значение\"].sum()"
      ],
      "execution_count": 16,
      "outputs": [
        {
          "output_type": "execute_result",
          "data": {
            "text/plain": [
              "Год\n",
              "2016    5254\n",
              "2017    8524\n",
              "2018    5117\n",
              "2019    5733\n",
              "2020     956\n",
              "Name: Значение, dtype: int64"
            ]
          },
          "metadata": {
            "tags": []
          },
          "execution_count": 16
        }
      ]
    },
    {
      "cell_type": "markdown",
      "metadata": {
        "id": "y_et--0aIGlk",
        "colab_type": "text"
      },
      "source": [
        "# **2)**"
      ]
    },
    {
      "cell_type": "code",
      "metadata": {
        "id": "OBTputqkIJ14",
        "colab_type": "code",
        "colab": {
          "base_uri": "https://localhost:8080/",
          "height": 136
        },
        "outputId": "c6248d37-6f92-46a6-938d-4c758a8ca14e"
      },
      "source": [
        "t=df.loc[df[\"Критерий\"]==\"reach\"]\n",
        "t=t.groupby([\"Год\"])[\"Значение\"].sum()\n",
        "t"
      ],
      "execution_count": 27,
      "outputs": [
        {
          "output_type": "execute_result",
          "data": {
            "text/plain": [
              "Год\n",
              "2016    15672\n",
              "2017    27479\n",
              "2018    12539\n",
              "2019    21185\n",
              "2020     1656\n",
              "Name: Значение, dtype: int64"
            ]
          },
          "metadata": {
            "tags": []
          },
          "execution_count": 27
        }
      ]
    },
    {
      "cell_type": "code",
      "metadata": {
        "id": "s_bgRh9hIdXa",
        "colab_type": "code",
        "colab": {
          "base_uri": "https://localhost:8080/",
          "height": 136
        },
        "outputId": "9807c679-fe7f-4008-9326-a67c6f8f2fca"
      },
      "source": [
        "t=df.loc[df[\"Критерий\"]==\"reach_subscribers\"]\n",
        "t.groupby([\"Год\"])[\"Значение\"].sum()"
      ],
      "execution_count": 28,
      "outputs": [
        {
          "output_type": "execute_result",
          "data": {
            "text/plain": [
              "Год\n",
              "2016    3522\n",
              "2017    4487\n",
              "2018    2125\n",
              "2019    9568\n",
              "2020     536\n",
              "Name: Значение, dtype: int64"
            ]
          },
          "metadata": {
            "tags": []
          },
          "execution_count": 28
        }
      ]
    },
    {
      "cell_type": "markdown",
      "metadata": {
        "id": "LuEpNjXTJHes",
        "colab_type": "text"
      },
      "source": [
        "# **3)**"
      ]
    },
    {
      "cell_type": "code",
      "metadata": {
        "id": "bqZRUT6gJJyS",
        "colab_type": "code",
        "colab": {
          "base_uri": "https://localhost:8080/",
          "height": 68
        },
        "outputId": "9b664ae5-acf8-4877-ecbe-3d2bcc54659b"
      },
      "source": [
        "df.loc[df[\"Критерий\"]==\"gender\"][\"Парам. №1\"].value_counts(normalize=True)"
      ],
      "execution_count": 29,
      "outputs": [
        {
          "output_type": "execute_result",
          "data": {
            "text/plain": [
              "М    0.502853\n",
              "Ж    0.497147\n",
              "Name: Парам. №1, dtype: float64"
            ]
          },
          "metadata": {
            "tags": []
          },
          "execution_count": 29
        }
      ]
    },
    {
      "cell_type": "code",
      "metadata": {
        "id": "xNbE1P-XJmhJ",
        "colab_type": "code",
        "colab": {
          "base_uri": "https://localhost:8080/",
          "height": 187
        },
        "outputId": "f2ae8008-b29f-4656-cba6-bf5922f62eef"
      },
      "source": [
        "t=df.loc[df[\"Критерий\"]==\"age\"].groupby([\"Парам. №1\"])[\"Значение\"]\n",
        "t=t.sum().sort_values()\n",
        "t"
      ],
      "execution_count": 30,
      "outputs": [
        {
          "output_type": "execute_result",
          "data": {
            "text/plain": [
              "Парам. №1\n",
              "1-18      741\n",
              "24-27    1751\n",
              "45+      2350\n",
              "35-45    2402\n",
              "27-30    2419\n",
              "21-24    2560\n",
              "18-21    3046\n",
              "30-35    3466\n",
              "Name: Значение, dtype: int64"
            ]
          },
          "metadata": {
            "tags": []
          },
          "execution_count": 30
        }
      ]
    },
    {
      "cell_type": "code",
      "metadata": {
        "id": "ZpPF9UnrKZCp",
        "colab_type": "code",
        "colab": {
          "base_uri": "https://localhost:8080/",
          "height": 323
        },
        "outputId": "b80e7644-e91e-4ecd-f86b-185e2787216f"
      },
      "source": [
        "t=df.loc[df[\"Критерий\"]==\"gender_age\"].groupby([\"Парам. №1\"])\n",
        "t=t[\"Парам. №2\"].value_counts()\n",
        "t"
      ],
      "execution_count": 31,
      "outputs": [
        {
          "output_type": "execute_result",
          "data": {
            "text/plain": [
              "Парам. №1  Парам. №2\n",
              "Ж          18-21         939\n",
              "           21-24         808\n",
              "           45+           744\n",
              "           35-45         659\n",
              "           24-27         612\n",
              "           30-35         582\n",
              "           27-30         495\n",
              "           1-18          426\n",
              "М          30-35        1095\n",
              "           27-30         990\n",
              "           35-45         783\n",
              "           45+           718\n",
              "           21-24         693\n",
              "           18-21         649\n",
              "           24-27         574\n",
              "           1-18          184\n",
              "Name: Парам. №2, dtype: int64"
            ]
          },
          "metadata": {
            "tags": []
          },
          "execution_count": 31
        }
      ]
    },
    {
      "cell_type": "code",
      "metadata": {
        "id": "_EHkyhNmK_xv",
        "colab_type": "code",
        "colab": {
          "base_uri": "https://localhost:8080/",
          "height": 238
        },
        "outputId": "e16dbad9-371b-4445-9f6f-0610537102fa"
      },
      "source": [
        "t=df.loc[df[\"Критерий\"]==\"countries\"].groupby([\"Парам. №1\"])[\"Значение\"]\n",
        "t=t.sum().sort_values(ascending=True)\n",
        "t"
      ],
      "execution_count": 32,
      "outputs": [
        {
          "output_type": "execute_result",
          "data": {
            "text/plain": [
              "Парам. №1\n",
              "Австралия                          1\n",
              "Кот-д'Ивуар                        1\n",
              "Кувейт                             1\n",
              "Южно-Африканская Республика        1\n",
              "Непал                              1\n",
              "                               ...  \n",
              "Казахстан                        290\n",
              "США                              340\n",
              "Беларусь                         506\n",
              "Украина                          994\n",
              "Россия                         22367\n",
              "Name: Значение, Length: 70, dtype: int64"
            ]
          },
          "metadata": {
            "tags": []
          },
          "execution_count": 32
        }
      ]
    },
    {
      "cell_type": "markdown",
      "metadata": {
        "id": "x-fVY_CGMnci",
        "colab_type": "text"
      },
      "source": [
        "4) \n",
        "1.Группа в 2017 получает основной набор аудитории, затем показатели роста становятся средними, при этом сохраняется удержание уже набранной аудитории, идет медленное развитие.\n",
        "2.Группа популярна на территории СНГ, а так же среди возрастных категорий 18-24 и 30-35 лет.\n",
        "3.Группа актуальна как для мужчин, так и для женщин, при этом группой в большей мере интересуются женщины 18-24 и 45+ лет, а мужчины возраста 27-45.\n",
        "\n",
        "\n",
        "5)Данная группа подходит для продвижения товаров среди россиян моложе 30, т.к. основная масса аудитории приходится именно на русскоговорящих в возрастной категории 18-24.\n",
        "\n",
        "\n",
        "\n",
        "\n",
        "\n",
        "\n"
      ]
    }
  ]
}