{
 "cells": [
  {
   "cell_type": "code",
   "execution_count": 5,
   "metadata": {},
   "outputs": [
    {
     "name": "stdout",
     "output_type": "stream",
     "text": [
      "['and\\n', 'i\\n', 'i\\n', 'a\\n', 'the\\n', 'call\\n', 'ishmael\\n', 'years\\n', 'agonever\\n', 'mind\\n']\n"
     ]
    }
   ],
   "source": [
    "with open (\"moby_clean.txt\", \"r\") as file:\n",
    "    listsp = file.readlines()\n",
    "    slov = {i: listsp.count(i) for i in spisok}\n",
    "    so = sorted(list(slov.values()))\n",
    "    minso = a[-5:]\n",
    "    maxso = a[:5]\n",
    "    fun_min =[i for i in spisok if slov[i] ==  minso[0] \n",
    "              or slov[i] ==  minso[1] \n",
    "              or slov[i] ==  minso[2] \n",
    "              or slov[i] ==  minso[3] \n",
    "              or slov[i] ==  minso[4]][:5]\n",
    "    fun_max = [i for i in spisok if slov[i] == maxso[0] \n",
    "               or slov[i] == maxso[1]\n",
    "               or slov[i] == maxso[2] \n",
    "               or slov[i] == maxso[3] \n",
    "               or slov[i] == maxso[4]][:5]\n",
    "    print(fun_min+fun_max)"
   ]
  },
  {
   "cell_type": "code",
   "execution_count": null,
   "metadata": {},
   "outputs": [],
   "source": []
  }
 ],
 "metadata": {
  "kernelspec": {
   "display_name": "Python 3",
   "language": "python",
   "name": "python3"
  },
  "language_info": {
   "codemirror_mode": {
    "name": "ipython",
    "version": 3
   },
   "file_extension": ".py",
   "mimetype": "text/x-python",
   "name": "python",
   "nbconvert_exporter": "python",
   "pygments_lexer": "ipython3",
   "version": "3.7.6"
  }
 },
 "nbformat": 4,
 "nbformat_minor": 4
}
